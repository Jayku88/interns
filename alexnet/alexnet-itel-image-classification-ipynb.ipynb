{
 "cells": [
  {
   "cell_type": "markdown",
   "id": "2f154ba0",
   "metadata": {
    "papermill": {
     "duration": 0.004168,
     "end_time": "2022-10-01T07:51:47.290328",
     "exception": false,
     "start_time": "2022-10-01T07:51:47.286160",
     "status": "completed"
    },
    "tags": []
   },
   "source": [
    "**Import Libaraies**"
   ]
  },
  {
   "cell_type": "code",
   "execution_count": 11,
   "id": "13e91be7",
   "metadata": {
    "execution": {
     "iopub.execute_input": "2022-10-01T07:51:47.299478Z",
     "iopub.status.busy": "2022-10-01T07:51:47.298861Z",
     "iopub.status.idle": "2022-10-01T07:51:55.417657Z",
     "shell.execute_reply": "2022-10-01T07:51:55.416461Z"
    },
    "papermill": {
     "duration": 8.126749,
     "end_time": "2022-10-01T07:51:55.420644",
     "exception": false,
     "start_time": "2022-10-01T07:51:47.293895",
     "status": "completed"
    },
    "tags": []
   },
   "outputs": [],
   "source": [
    "# Importing libraries \n",
    "import numpy as np \n",
    "import tensorflow \n",
    "from tensorflow import keras \n",
    "import matplotlib as plt \n",
    "import seaborn \n",
    "import glob \n",
    "import os\n",
    "from os import listdir \n",
    "\n",
    "from keras.preprocessing.image import ImageDataGenerator\n",
    "\n",
    "import skimage \n",
    "from skimage.io import imread_collection\n",
    "from skimage.io import imshow_collection\n",
    "from skimage.io import concatenate_images \n",
    "from matplotlib import pyplot as plt\n",
    "\n",
    "from tensorflow.keras import layers\n",
    "from tensorflow.keras import Sequential \n",
    "\n",
    "from PIL import Image"
   ]
  },
  {
   "cell_type": "code",
   "execution_count": 12,
   "id": "a380ead4",
   "metadata": {
    "execution": {
     "iopub.execute_input": "2022-10-01T07:51:55.429593Z",
     "iopub.status.busy": "2022-10-01T07:51:55.428051Z",
     "iopub.status.idle": "2022-10-01T07:52:09.550973Z",
     "shell.execute_reply": "2022-10-01T07:52:09.549250Z"
    },
    "papermill": {
     "duration": 14.130257,
     "end_time": "2022-10-01T07:52:09.554062",
     "exception": false,
     "start_time": "2022-10-01T07:51:55.423805",
     "status": "completed"
    },
    "tags": []
   },
   "outputs": [
    {
     "name": "stdout",
     "output_type": "stream",
     "text": [
      "C:\\Users\\0MEN\\Desktop\\sub\\resizedto224\\\n",
      "C:\\Users\\0MEN\\Desktop\\sub\\resizedto224\\pred\n",
      "C:\\Users\\0MEN\\Desktop\\sub\\resizedto224\\Test\n",
      "C:\\Users\\0MEN\\Desktop\\sub\\resizedto224\\Test\\actinic keratosis\n",
      "C:\\Users\\0MEN\\Desktop\\sub\\resizedto224\\Test\\basal cell carcinoma\n",
      "C:\\Users\\0MEN\\Desktop\\sub\\resizedto224\\Test\\dermatofibroma\n",
      "C:\\Users\\0MEN\\Desktop\\sub\\resizedto224\\Test\\melanoma\n",
      "C:\\Users\\0MEN\\Desktop\\sub\\resizedto224\\Test\\nevus\n",
      "C:\\Users\\0MEN\\Desktop\\sub\\resizedto224\\Test\\pigmented benign keratosis\n",
      "C:\\Users\\0MEN\\Desktop\\sub\\resizedto224\\Test\\seborrheic keratosis\n",
      "C:\\Users\\0MEN\\Desktop\\sub\\resizedto224\\Train\n",
      "C:\\Users\\0MEN\\Desktop\\sub\\resizedto224\\Train\\actinic keratosis\n",
      "C:\\Users\\0MEN\\Desktop\\sub\\resizedto224\\Train\\basal cell carcinoma\n",
      "C:\\Users\\0MEN\\Desktop\\sub\\resizedto224\\Train\\dermatofibroma\n",
      "C:\\Users\\0MEN\\Desktop\\sub\\resizedto224\\Train\\melanoma\n",
      "C:\\Users\\0MEN\\Desktop\\sub\\resizedto224\\Train\\nevus\n",
      "C:\\Users\\0MEN\\Desktop\\sub\\resizedto224\\Train\\pigmented benign keratosis\n",
      "C:\\Users\\0MEN\\Desktop\\sub\\resizedto224\\Train\\seborrheic keratosis\n"
     ]
    }
   ],
   "source": [
    "for dirname, _, filenames in os.walk('C:\\\\Users\\\\0MEN\\\\Desktop\\\\sub\\\\resizedto224\\\\'):\n",
    "    print (dirname)"
   ]
  },
  {
   "cell_type": "code",
   "execution_count": 13,
   "id": "5b2cdc90",
   "metadata": {
    "execution": {
     "iopub.execute_input": "2022-10-01T07:52:09.564309Z",
     "iopub.status.busy": "2022-10-01T07:52:09.563885Z",
     "iopub.status.idle": "2022-10-01T07:52:13.025854Z",
     "shell.execute_reply": "2022-10-01T07:52:13.023749Z"
    },
    "papermill": {
     "duration": 3.470333,
     "end_time": "2022-10-01T07:52:13.029015",
     "exception": false,
     "start_time": "2022-10-01T07:52:09.558682",
     "status": "completed"
    },
    "tags": []
   },
   "outputs": [
    {
     "name": "stdout",
     "output_type": "stream",
     "text": [
      "Found 1538 images belonging to 7 classes.\n",
      "Found 381 images belonging to 7 classes.\n",
      "Found 99 images belonging to 7 classes.\n",
      "[0 0 0 ... 6 6 6]\n",
      "[0 0 0 0 0 0 0 0 0 0 0 0 0 0 0 0 0 0 0 0 0 0 1 1 1 1 1 1 1 1 1 1 1 1 1 1 1\n",
      " 1 1 1 1 1 1 1 1 1 1 1 1 1 1 1 1 1 1 1 1 1 1 1 1 1 1 1 1 1 1 1 1 1 1 1 1 1\n",
      " 1 1 1 1 1 1 1 1 1 1 1 1 1 1 1 1 1 1 1 1 1 1 1 2 2 2 2 2 2 2 2 2 2 2 2 2 2\n",
      " 2 2 2 2 2 3 3 3 3 3 3 3 3 3 3 3 3 3 3 3 3 3 3 3 3 3 3 3 3 3 3 3 3 3 3 3 3\n",
      " 3 3 3 3 3 3 3 3 3 3 3 3 3 3 3 3 3 3 3 3 3 3 3 3 3 3 3 3 3 3 3 3 3 3 3 3 3\n",
      " 3 3 3 3 3 3 3 3 3 3 3 3 3 3 3 3 3 3 4 4 4 4 4 4 4 4 4 4 4 4 4 4 4 4 4 4 4\n",
      " 4 4 4 4 4 4 4 4 4 4 4 4 4 4 4 4 4 4 4 4 4 4 4 4 4 4 4 4 4 4 4 4 4 4 4 4 4\n",
      " 4 4 4 4 4 4 4 4 4 4 4 4 4 4 4 5 5 5 5 5 5 5 5 5 5 5 5 5 5 5 5 5 5 5 5 5 5\n",
      " 5 5 5 5 5 5 5 5 5 5 5 5 5 5 5 5 5 5 5 5 5 5 5 5 5 5 5 5 5 5 5 5 5 5 5 5 5\n",
      " 5 5 5 5 5 5 5 5 5 5 5 5 5 5 5 5 5 5 5 5 5 5 5 5 5 5 5 5 5 5 5 5 5 6 6 6 6\n",
      " 6 6 6 6 6 6 6 6 6 6 6]\n",
      "{'actinic keratosis': 0, 'basal cell carcinoma': 1, 'dermatofibroma': 2, 'melanoma': 3, 'nevus': 4, 'pigmented benign keratosis': 5, 'seborrheic keratosis': 6}\n",
      "[0 0 0 0 0 0 0 0 0 0 0 0 0 0 0 0 1 1 1 1 1 1 1 1 1 1 1 1 1 1 1 1 2 2 2 2 2\n",
      " 2 2 2 2 2 2 2 2 2 2 2 3 3 3 3 3 3 3 3 3 3 3 3 3 3 3 3 4 4 4 4 4 4 4 4 4 4\n",
      " 4 4 4 4 4 4 5 5 5 5 5 5 5 5 5 5 5 5 5 5 5 5 6 6 6]\n"
     ]
    }
   ],
   "source": [
    "# Importing the data and preprocessing \n",
    "from keras.preprocessing.image import ImageDataGenerator \n",
    "\n",
    "\n",
    "# set the directory based on the folder where you saved dataset\n",
    "train_data_dir = \"C:\\\\Users\\\\0MEN\\\\Desktop\\\\sub\\\\resizedto224\\\\Train\\\\\"\n",
    "test_data_dir = \"C:\\\\Users\\\\0MEN\\\\Desktop\\\\sub\\\\resizedto224\\\\Test\\\\\"\n",
    "image_generator = ImageDataGenerator(rescale=1/255, validation_split=0.2)    \n",
    "\n",
    "train_data = image_generator.flow_from_directory(batch_size=32,\n",
    "                                                 directory=train_data_dir,\n",
    "                                                 shuffle=True,\n",
    "                                                 target_size=(227,227), \n",
    "                                                 subset=\"training\",\n",
    "                                                 class_mode='categorical')\n",
    "\n",
    "val_data = image_generator.flow_from_directory(batch_size=32,\n",
    "                                                 directory=train_data_dir,\n",
    "                                                 shuffle=True,\n",
    "                                                 target_size=(227,227), \n",
    "                                                 subset=\"validation\",\n",
    "                                                 class_mode='categorical')\n",
    "test_gen = ImageDataGenerator(rescale=1./255)\n",
    "test_data = test_gen.flow_from_directory(test_data_dir,\n",
    "                                       target_size=(227,227), batch_size=32, shuffle=False)\n",
    "\n",
    "\n",
    "print(train_data.classes)\n",
    "print(val_data.classes)\n",
    "print(train_data.class_indices)\n",
    "print(test_data.classes)\n",
    "class_names = np.unique(train_data.classes)"
   ]
  },
  {
   "cell_type": "code",
   "execution_count": 14,
   "id": "39556bfd",
   "metadata": {
    "execution": {
     "iopub.execute_input": "2022-10-01T07:52:13.039548Z",
     "iopub.status.busy": "2022-10-01T07:52:13.038514Z",
     "iopub.status.idle": "2022-10-01T07:52:16.607489Z",
     "shell.execute_reply": "2022-10-01T07:52:16.604400Z"
    },
    "papermill": {
     "duration": 3.577453,
     "end_time": "2022-10-01T07:52:16.610299",
     "exception": false,
     "start_time": "2022-10-01T07:52:13.032846",
     "status": "completed"
    },
    "tags": []
   },
   "outputs": [
    {
     "name": "stdout",
     "output_type": "stream",
     "text": [
      "Model: \"sequential_1\"\n",
      "_________________________________________________________________\n",
      "Layer (type)                 Output Shape              Param #   \n",
      "=================================================================\n",
      "conv2d_5 (Conv2D)            (None, 55, 55, 96)        34944     \n",
      "_________________________________________________________________\n",
      "batch_normalization_5 (Batch (None, 55, 55, 96)        384       \n",
      "_________________________________________________________________\n",
      "max_pooling2d_3 (MaxPooling2 (None, 27, 27, 96)        0         \n",
      "_________________________________________________________________\n",
      "conv2d_6 (Conv2D)            (None, 27, 27, 256)       614656    \n",
      "_________________________________________________________________\n",
      "batch_normalization_6 (Batch (None, 27, 27, 256)       1024      \n",
      "_________________________________________________________________\n",
      "max_pooling2d_4 (MaxPooling2 (None, 13, 13, 256)       0         \n",
      "_________________________________________________________________\n",
      "conv2d_7 (Conv2D)            (None, 13, 13, 384)       885120    \n",
      "_________________________________________________________________\n",
      "batch_normalization_7 (Batch (None, 13, 13, 384)       1536      \n",
      "_________________________________________________________________\n",
      "conv2d_8 (Conv2D)            (None, 13, 13, 384)       1327488   \n",
      "_________________________________________________________________\n",
      "batch_normalization_8 (Batch (None, 13, 13, 384)       1536      \n",
      "_________________________________________________________________\n",
      "conv2d_9 (Conv2D)            (None, 13, 13, 256)       884992    \n",
      "_________________________________________________________________\n",
      "batch_normalization_9 (Batch (None, 13, 13, 256)       1024      \n",
      "_________________________________________________________________\n",
      "max_pooling2d_5 (MaxPooling2 (None, 6, 6, 256)         0         \n",
      "_________________________________________________________________\n",
      "flatten_1 (Flatten)          (None, 9216)              0         \n",
      "_________________________________________________________________\n",
      "dense_3 (Dense)              (None, 4096)              37752832  \n",
      "_________________________________________________________________\n",
      "dropout_2 (Dropout)          (None, 4096)              0         \n",
      "_________________________________________________________________\n",
      "dense_4 (Dense)              (None, 4096)              16781312  \n",
      "_________________________________________________________________\n",
      "dropout_3 (Dropout)          (None, 4096)              0         \n",
      "_________________________________________________________________\n",
      "dense_5 (Dense)              (None, 7)                 28679     \n",
      "=================================================================\n",
      "Total params: 58,315,527\n",
      "Trainable params: 58,312,775\n",
      "Non-trainable params: 2,752\n",
      "_________________________________________________________________\n"
     ]
    }
   ],
   "source": [
    "model = keras.models.Sequential([\n",
    "    keras.layers.Conv2D(filters=96, kernel_size=(11,11), strides=(4,4), activation='relu', input_shape=(227,227,3)),\n",
    "    keras.layers.BatchNormalization(),\n",
    "    keras.layers.MaxPool2D(pool_size=(3,3), strides=(2,2)),\n",
    "    keras.layers.Conv2D(filters=256, kernel_size=(5,5), strides=(1,1), activation='relu', padding=\"same\"),\n",
    "    keras.layers.BatchNormalization(),\n",
    "    keras.layers.MaxPool2D(pool_size=(3,3), strides=(2,2)),\n",
    "    keras.layers.Conv2D(filters=384, kernel_size=(3,3), strides=(1,1), activation='relu', padding=\"same\"),\n",
    "    keras.layers.BatchNormalization(),\n",
    "    keras.layers.Conv2D(filters=384, kernel_size=(3,3), strides=(1,1), activation='relu', padding=\"same\"),\n",
    "    keras.layers.BatchNormalization(),\n",
    "    keras.layers.Conv2D(filters=256, kernel_size=(3,3), strides=(1,1), activation='relu', padding=\"same\"),\n",
    "    keras.layers.BatchNormalization(),\n",
    "    keras.layers.MaxPool2D(pool_size=(3,3), strides=(2,2)),\n",
    "    keras.layers.Flatten(),\n",
    "    keras.layers.Dense(4096, activation='relu'),\n",
    "    keras.layers.Dropout(0.5),\n",
    "    keras.layers.Dense(4096, activation='relu'),\n",
    "    keras.layers.Dropout(0.5),\n",
    "    keras.layers.Dense(7, activation='softmax')\n",
    "])\n",
    "\n",
    "model.summary()"
   ]
  },
  {
   "cell_type": "code",
   "execution_count": 15,
   "id": "609909dc",
   "metadata": {
    "execution": {
     "iopub.execute_input": "2022-10-01T07:52:16.621631Z",
     "iopub.status.busy": "2022-10-01T07:52:16.620751Z",
     "iopub.status.idle": "2022-10-01T07:52:16.638724Z",
     "shell.execute_reply": "2022-10-01T07:52:16.637429Z"
    },
    "papermill": {
     "duration": 0.02779,
     "end_time": "2022-10-01T07:52:16.642146",
     "exception": false,
     "start_time": "2022-10-01T07:52:16.614356",
     "status": "completed"
    },
    "tags": []
   },
   "outputs": [],
   "source": [
    "model.compile(optimizer='Adam',\n",
    "              loss='categorical_crossentropy',\n",
    "              metrics=['accuracy'])"
   ]
  },
  {
   "cell_type": "code",
   "execution_count": 16,
   "id": "aa7eab8d",
   "metadata": {
    "execution": {
     "iopub.execute_input": "2022-10-01T07:52:16.653009Z",
     "iopub.status.busy": "2022-10-01T07:52:16.652277Z",
     "iopub.status.idle": "2022-10-01T08:28:40.845866Z",
     "shell.execute_reply": "2022-10-01T08:28:40.844724Z"
    },
    "papermill": {
     "duration": 2184.20329,
     "end_time": "2022-10-01T08:28:40.849884",
     "exception": false,
     "start_time": "2022-10-01T07:52:16.646594",
     "status": "completed"
    },
    "tags": []
   },
   "outputs": [
    {
     "name": "stdout",
     "output_type": "stream",
     "text": [
      "Epoch 1/25\n",
      "49/49 [==============================] - 6s 109ms/step - loss: 17.6506 - accuracy: 0.3049 - val_loss: 100.8563 - val_accuracy: 0.2283\n",
      "Epoch 2/25\n",
      "49/49 [==============================] - 5s 105ms/step - loss: 3.6213 - accuracy: 0.3882 - val_loss: 2.3571 - val_accuracy: 0.2021\n",
      "Epoch 3/25\n",
      "49/49 [==============================] - 5s 105ms/step - loss: 2.1851 - accuracy: 0.4220 - val_loss: 3.7701 - val_accuracy: 0.2126\n",
      "Epoch 4/25\n",
      "49/49 [==============================] - 5s 105ms/step - loss: 2.1075 - accuracy: 0.4454 - val_loss: 2.0466 - val_accuracy: 0.2730\n",
      "Epoch 5/25\n",
      "49/49 [==============================] - 5s 104ms/step - loss: 1.7759 - accuracy: 0.4746 - val_loss: 1.9872 - val_accuracy: 0.3018\n",
      "Epoch 6/25\n",
      "49/49 [==============================] - 5s 107ms/step - loss: 1.9275 - accuracy: 0.4545 - val_loss: 1.9016 - val_accuracy: 0.2677\n",
      "Epoch 7/25\n",
      "49/49 [==============================] - 5s 105ms/step - loss: 1.7670 - accuracy: 0.4564 - val_loss: 1.9212 - val_accuracy: 0.3176\n",
      "Epoch 8/25\n",
      "49/49 [==============================] - 5s 106ms/step - loss: 1.6980 - accuracy: 0.4837 - val_loss: 2.0392 - val_accuracy: 0.3150\n",
      "Epoch 9/25\n",
      "49/49 [==============================] - 5s 105ms/step - loss: 1.6330 - accuracy: 0.4779 - val_loss: 2.1824 - val_accuracy: 0.3123\n",
      "Epoch 10/25\n",
      "49/49 [==============================] - 5s 106ms/step - loss: 1.6890 - accuracy: 0.4766 - val_loss: 2.5442 - val_accuracy: 0.2520\n",
      "Epoch 11/25\n",
      "49/49 [==============================] - 5s 108ms/step - loss: 1.5907 - accuracy: 0.4948 - val_loss: 1.6998 - val_accuracy: 0.3675\n",
      "Epoch 12/25\n",
      "49/49 [==============================] - 5s 106ms/step - loss: 1.5797 - accuracy: 0.5104 - val_loss: 2.5025 - val_accuracy: 0.2703\n",
      "Epoch 13/25\n",
      "49/49 [==============================] - 5s 106ms/step - loss: 1.4900 - accuracy: 0.5072 - val_loss: 2.4846 - val_accuracy: 0.3570\n",
      "Epoch 14/25\n",
      "49/49 [==============================] - 5s 106ms/step - loss: 1.6411 - accuracy: 0.4655 - val_loss: 2.8801 - val_accuracy: 0.2677\n",
      "Epoch 15/25\n",
      "49/49 [==============================] - 5s 106ms/step - loss: 1.4775 - accuracy: 0.4850 - val_loss: 1.9076 - val_accuracy: 0.2493\n",
      "Epoch 16/25\n",
      "49/49 [==============================] - 5s 106ms/step - loss: 1.5732 - accuracy: 0.5091 - val_loss: 3.4767 - val_accuracy: 0.3255\n",
      "Epoch 17/25\n",
      "49/49 [==============================] - 5s 106ms/step - loss: 1.4453 - accuracy: 0.5124 - val_loss: 1.8257 - val_accuracy: 0.3071\n",
      "Epoch 18/25\n",
      "49/49 [==============================] - 5s 106ms/step - loss: 1.5874 - accuracy: 0.4850 - val_loss: 7.3464 - val_accuracy: 0.1654\n",
      "Epoch 19/25\n",
      "49/49 [==============================] - 5s 106ms/step - loss: 1.5057 - accuracy: 0.4948 - val_loss: 7.9524 - val_accuracy: 0.2257\n",
      "Epoch 20/25\n",
      "49/49 [==============================] - 5s 106ms/step - loss: 1.5025 - accuracy: 0.4993 - val_loss: 8.7608 - val_accuracy: 0.1864\n",
      "Epoch 21/25\n",
      "49/49 [==============================] - 5s 106ms/step - loss: 1.4096 - accuracy: 0.5137 - val_loss: 5.0638 - val_accuracy: 0.1969\n",
      "Epoch 22/25\n",
      "49/49 [==============================] - 5s 108ms/step - loss: 1.4616 - accuracy: 0.5007 - val_loss: 9.3666 - val_accuracy: 0.2415\n",
      "Epoch 23/25\n",
      "49/49 [==============================] - 5s 106ms/step - loss: 1.4493 - accuracy: 0.4954 - val_loss: 2.5947 - val_accuracy: 0.2362\n",
      "Epoch 24/25\n",
      "49/49 [==============================] - 5s 106ms/step - loss: 1.4346 - accuracy: 0.5202 - val_loss: 2.7092 - val_accuracy: 0.2310\n",
      "Epoch 25/25\n",
      "49/49 [==============================] - 5s 108ms/step - loss: 1.3771 - accuracy: 0.5195 - val_loss: 2.2176 - val_accuracy: 0.3360\n"
     ]
    }
   ],
   "source": [
    "history = model.fit(train_data, epochs=25, batch_size=32, validation_data = val_data)"
   ]
  },
  {
   "cell_type": "code",
   "execution_count": 17,
   "id": "90c5d6d3",
   "metadata": {
    "execution": {
     "iopub.execute_input": "2022-10-01T08:28:43.070287Z",
     "iopub.status.busy": "2022-10-01T08:28:43.069836Z",
     "iopub.status.idle": "2022-10-01T08:29:03.830345Z",
     "shell.execute_reply": "2022-10-01T08:29:03.829236Z"
    },
    "papermill": {
     "duration": 21.830178,
     "end_time": "2022-10-01T08:29:03.833233",
     "exception": false,
     "start_time": "2022-10-01T08:28:42.003055",
     "status": "completed"
    },
    "tags": []
   },
   "outputs": [
    {
     "name": "stdout",
     "output_type": "stream",
     "text": [
      "4/4 [==============================] - 0s 31ms/step - loss: 2.6052 - accuracy: 0.2626\n"
     ]
    }
   ],
   "source": [
    "test_loss, test_acc = model.evaluate((test_data))"
   ]
  },
  {
   "cell_type": "code",
   "execution_count": 18,
   "id": "ff27a171",
   "metadata": {
    "papermill": {
     "duration": 1.137358,
     "end_time": "2022-10-01T08:29:06.124011",
     "exception": false,
     "start_time": "2022-10-01T08:29:04.986653",
     "status": "completed"
    },
    "tags": []
   },
   "outputs": [],
   "source": [
    "model.save('C:\\\\Users\\\\0MEN\\\\Desktop\\\\sub\\\\alexnet\\\\intel_alexnet_dec21.h5')"
   ]
  },
  {
   "cell_type": "code",
   "execution_count": null,
   "id": "e70751a8",
   "metadata": {},
   "outputs": [],
   "source": []
  }
 ],
 "metadata": {
  "kernelspec": {
   "display_name": "Python 3 (ipykernel)",
   "language": "python",
   "name": "python3"
  },
  "language_info": {
   "codemirror_mode": {
    "name": "ipython",
    "version": 3
   },
   "file_extension": ".py",
   "mimetype": "text/x-python",
   "name": "python",
   "nbconvert_exporter": "python",
   "pygments_lexer": "ipython3",
   "version": "3.9.15"
  },
  "papermill": {
   "default_parameters": {},
   "duration": 2253.616896,
   "end_time": "2022-10-01T08:29:10.832745",
   "environment_variables": {},
   "exception": null,
   "input_path": "__notebook__.ipynb",
   "output_path": "__notebook__.ipynb",
   "parameters": {},
   "start_time": "2022-10-01T07:51:37.215849",
   "version": "2.3.4"
  }
 },
 "nbformat": 4,
 "nbformat_minor": 5
}
