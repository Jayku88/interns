{
 "cells": [
  {
   "cell_type": "markdown",
   "id": "2f154ba0",
   "metadata": {
    "papermill": {
     "duration": 0.004168,
     "end_time": "2022-10-01T07:51:47.290328",
     "exception": false,
     "start_time": "2022-10-01T07:51:47.286160",
     "status": "completed"
    },
    "tags": []
   },
   "source": [
    "**Import Libaraies**"
   ]
  },
  {
   "cell_type": "code",
   "execution_count": 1,
   "id": "13e91be7",
   "metadata": {
    "execution": {
     "iopub.execute_input": "2022-10-01T07:51:47.299478Z",
     "iopub.status.busy": "2022-10-01T07:51:47.298861Z",
     "iopub.status.idle": "2022-10-01T07:51:55.417657Z",
     "shell.execute_reply": "2022-10-01T07:51:55.416461Z"
    },
    "papermill": {
     "duration": 8.126749,
     "end_time": "2022-10-01T07:51:55.420644",
     "exception": false,
     "start_time": "2022-10-01T07:51:47.293895",
     "status": "completed"
    },
    "tags": []
   },
   "outputs": [],
   "source": [
    "# Importing libraries \n",
    "import numpy as np \n",
    "import tensorflow \n",
    "from tensorflow import keras \n",
    "import matplotlib as plt \n",
    "import seaborn \n",
    "import glob \n",
    "import os\n",
    "from os import listdir \n",
    "\n",
    "from keras.preprocessing.image import ImageDataGenerator\n",
    "\n",
    "import skimage \n",
    "from skimage.io import imread_collection\n",
    "from skimage.io import imshow_collection\n",
    "from skimage.io import concatenate_images \n",
    "from matplotlib import pyplot as plt\n",
    "\n",
    "from tensorflow.keras import layers\n",
    "from tensorflow.keras import Sequential \n",
    "\n",
    "from PIL import Image"
   ]
  },
  {
   "cell_type": "markdown",
   "id": "9bf55a65",
   "metadata": {},
   "source": [
    "We have to set the directory based on the folder where you saved the  dataset"
   ]
  },
  {
   "cell_type": "code",
   "execution_count": 2,
   "id": "a380ead4",
   "metadata": {
    "execution": {
     "iopub.execute_input": "2022-10-01T07:51:55.429593Z",
     "iopub.status.busy": "2022-10-01T07:51:55.428051Z",
     "iopub.status.idle": "2022-10-01T07:52:09.550973Z",
     "shell.execute_reply": "2022-10-01T07:52:09.549250Z"
    },
    "papermill": {
     "duration": 14.130257,
     "end_time": "2022-10-01T07:52:09.554062",
     "exception": false,
     "start_time": "2022-10-01T07:51:55.423805",
     "status": "completed"
    },
    "tags": []
   },
   "outputs": [
    {
     "name": "stdout",
     "output_type": "stream",
     "text": [
      "C:\\Users\\0MEN\\Desktop\\sub\\resizedto224\\\n",
      "C:\\Users\\0MEN\\Desktop\\sub\\resizedto224\\pred\n",
      "C:\\Users\\0MEN\\Desktop\\sub\\resizedto224\\pred\\pred\n",
      "C:\\Users\\0MEN\\Desktop\\sub\\resizedto224\\Test\n",
      "C:\\Users\\0MEN\\Desktop\\sub\\resizedto224\\Test\\actinic keratosis\n",
      "C:\\Users\\0MEN\\Desktop\\sub\\resizedto224\\Test\\basal cell carcinoma\n",
      "C:\\Users\\0MEN\\Desktop\\sub\\resizedto224\\Test\\dermatofibroma\n",
      "C:\\Users\\0MEN\\Desktop\\sub\\resizedto224\\Test\\melanoma\n",
      "C:\\Users\\0MEN\\Desktop\\sub\\resizedto224\\Test\\nevus\n",
      "C:\\Users\\0MEN\\Desktop\\sub\\resizedto224\\Test\\pigmented benign keratosis\n",
      "C:\\Users\\0MEN\\Desktop\\sub\\resizedto224\\Test\\seborrheic keratosis\n",
      "C:\\Users\\0MEN\\Desktop\\sub\\resizedto224\\Train\n",
      "C:\\Users\\0MEN\\Desktop\\sub\\resizedto224\\Train\\actinic keratosis\n",
      "C:\\Users\\0MEN\\Desktop\\sub\\resizedto224\\Train\\basal cell carcinoma\n",
      "C:\\Users\\0MEN\\Desktop\\sub\\resizedto224\\Train\\dermatofibroma\n",
      "C:\\Users\\0MEN\\Desktop\\sub\\resizedto224\\Train\\melanoma\n",
      "C:\\Users\\0MEN\\Desktop\\sub\\resizedto224\\Train\\nevus\n",
      "C:\\Users\\0MEN\\Desktop\\sub\\resizedto224\\Train\\pigmented benign keratosis\n",
      "C:\\Users\\0MEN\\Desktop\\sub\\resizedto224\\Train\\seborrheic keratosis\n"
     ]
    }
   ],
   "source": [
    "for dirname, _, filenames in os.walk('C:\\\\Users\\\\0MEN\\\\Desktop\\\\sub\\\\resizedto224\\\\'):\n",
    "    print (dirname)"
   ]
  },
  {
   "cell_type": "markdown",
   "id": "2d084bec",
   "metadata": {},
   "source": [
    "We have to set the directory based on the folder where you saved the  dataset(train and test)"
   ]
  },
  {
   "cell_type": "code",
   "execution_count": 3,
   "id": "5b2cdc90",
   "metadata": {
    "execution": {
     "iopub.execute_input": "2022-10-01T07:52:09.564309Z",
     "iopub.status.busy": "2022-10-01T07:52:09.563885Z",
     "iopub.status.idle": "2022-10-01T07:52:13.025854Z",
     "shell.execute_reply": "2022-10-01T07:52:13.023749Z"
    },
    "papermill": {
     "duration": 3.470333,
     "end_time": "2022-10-01T07:52:13.029015",
     "exception": false,
     "start_time": "2022-10-01T07:52:09.558682",
     "status": "completed"
    },
    "tags": []
   },
   "outputs": [
    {
     "name": "stdout",
     "output_type": "stream",
     "text": [
      "Found 1538 images belonging to 7 classes.\n",
      "Found 381 images belonging to 7 classes.\n",
      "Found 99 images belonging to 7 classes.\n",
      "[0 0 0 ... 6 6 6]\n",
      "[0 0 0 0 0 0 0 0 0 0 0 0 0 0 0 0 0 0 0 0 0 0 1 1 1 1 1 1 1 1 1 1 1 1 1 1 1\n",
      " 1 1 1 1 1 1 1 1 1 1 1 1 1 1 1 1 1 1 1 1 1 1 1 1 1 1 1 1 1 1 1 1 1 1 1 1 1\n",
      " 1 1 1 1 1 1 1 1 1 1 1 1 1 1 1 1 1 1 1 1 1 1 1 2 2 2 2 2 2 2 2 2 2 2 2 2 2\n",
      " 2 2 2 2 2 3 3 3 3 3 3 3 3 3 3 3 3 3 3 3 3 3 3 3 3 3 3 3 3 3 3 3 3 3 3 3 3\n",
      " 3 3 3 3 3 3 3 3 3 3 3 3 3 3 3 3 3 3 3 3 3 3 3 3 3 3 3 3 3 3 3 3 3 3 3 3 3\n",
      " 3 3 3 3 3 3 3 3 3 3 3 3 3 3 3 3 3 3 4 4 4 4 4 4 4 4 4 4 4 4 4 4 4 4 4 4 4\n",
      " 4 4 4 4 4 4 4 4 4 4 4 4 4 4 4 4 4 4 4 4 4 4 4 4 4 4 4 4 4 4 4 4 4 4 4 4 4\n",
      " 4 4 4 4 4 4 4 4 4 4 4 4 4 4 4 5 5 5 5 5 5 5 5 5 5 5 5 5 5 5 5 5 5 5 5 5 5\n",
      " 5 5 5 5 5 5 5 5 5 5 5 5 5 5 5 5 5 5 5 5 5 5 5 5 5 5 5 5 5 5 5 5 5 5 5 5 5\n",
      " 5 5 5 5 5 5 5 5 5 5 5 5 5 5 5 5 5 5 5 5 5 5 5 5 5 5 5 5 5 5 5 5 5 6 6 6 6\n",
      " 6 6 6 6 6 6 6 6 6 6 6]\n",
      "{'actinic keratosis': 0, 'basal cell carcinoma': 1, 'dermatofibroma': 2, 'melanoma': 3, 'nevus': 4, 'pigmented benign keratosis': 5, 'seborrheic keratosis': 6}\n",
      "[0 0 0 0 0 0 0 0 0 0 0 0 0 0 0 0 1 1 1 1 1 1 1 1 1 1 1 1 1 1 1 1 2 2 2 2 2\n",
      " 2 2 2 2 2 2 2 2 2 2 2 3 3 3 3 3 3 3 3 3 3 3 3 3 3 3 3 4 4 4 4 4 4 4 4 4 4\n",
      " 4 4 4 4 4 4 5 5 5 5 5 5 5 5 5 5 5 5 5 5 5 5 6 6 6]\n"
     ]
    }
   ],
   "source": [
    "# Importing the data and preprocessing \n",
    "from keras.preprocessing.image import ImageDataGenerator \n",
    "\n",
    "\n",
    "# set the directory based on the folder where you saved dataset\n",
    "train_data_dir = \"C:\\\\Users\\\\0MEN\\\\Desktop\\\\sub\\\\resizedto224\\\\Train\\\\\"\n",
    "test_data_dir = \"C:\\\\Users\\\\0MEN\\\\Desktop\\\\sub\\\\resizedto224\\\\Test\\\\\"\n",
    "image_generator = ImageDataGenerator(rescale=1/255, validation_split=0.2)    \n",
    "\n",
    "train_data = image_generator.flow_from_directory(batch_size=32,\n",
    "                                                 directory=train_data_dir,\n",
    "                                                 shuffle=True,\n",
    "                                                 target_size=(227,227), \n",
    "                                                 subset=\"training\",\n",
    "                                                 class_mode='categorical')\n",
    "\n",
    "val_data = image_generator.flow_from_directory(batch_size=32,\n",
    "                                                 directory=train_data_dir,\n",
    "                                                 shuffle=True,\n",
    "                                                 target_size=(227,227), \n",
    "                                                 subset=\"validation\",\n",
    "                                                 class_mode='categorical')\n",
    "test_gen = ImageDataGenerator(rescale=1./255)\n",
    "test_data = test_gen.flow_from_directory(test_data_dir,\n",
    "                                       target_size=(227,227), batch_size=32, shuffle=False)\n",
    "\n",
    "\n",
    "print(train_data.classes)\n",
    "print(val_data.classes)\n",
    "print(train_data.class_indices)\n",
    "print(test_data.classes)\n",
    "class_names = np.unique(train_data.classes)"
   ]
  },
  {
   "cell_type": "markdown",
   "id": "9c6bd4f7",
   "metadata": {},
   "source": [
    "We have to change the value in Dense according to number of class.."
   ]
  },
  {
   "cell_type": "code",
   "execution_count": 4,
   "id": "39556bfd",
   "metadata": {
    "execution": {
     "iopub.execute_input": "2022-10-01T07:52:13.039548Z",
     "iopub.status.busy": "2022-10-01T07:52:13.038514Z",
     "iopub.status.idle": "2022-10-01T07:52:16.607489Z",
     "shell.execute_reply": "2022-10-01T07:52:16.604400Z"
    },
    "papermill": {
     "duration": 3.577453,
     "end_time": "2022-10-01T07:52:16.610299",
     "exception": false,
     "start_time": "2022-10-01T07:52:13.032846",
     "status": "completed"
    },
    "tags": []
   },
   "outputs": [
    {
     "name": "stdout",
     "output_type": "stream",
     "text": [
      "Model: \"sequential\"\n",
      "_________________________________________________________________\n",
      "Layer (type)                 Output Shape              Param #   \n",
      "=================================================================\n",
      "conv2d (Conv2D)              (None, 55, 55, 96)        34944     \n",
      "_________________________________________________________________\n",
      "batch_normalization (BatchNo (None, 55, 55, 96)        384       \n",
      "_________________________________________________________________\n",
      "max_pooling2d (MaxPooling2D) (None, 27, 27, 96)        0         \n",
      "_________________________________________________________________\n",
      "conv2d_1 (Conv2D)            (None, 27, 27, 256)       614656    \n",
      "_________________________________________________________________\n",
      "batch_normalization_1 (Batch (None, 27, 27, 256)       1024      \n",
      "_________________________________________________________________\n",
      "max_pooling2d_1 (MaxPooling2 (None, 13, 13, 256)       0         \n",
      "_________________________________________________________________\n",
      "conv2d_2 (Conv2D)            (None, 13, 13, 384)       885120    \n",
      "_________________________________________________________________\n",
      "batch_normalization_2 (Batch (None, 13, 13, 384)       1536      \n",
      "_________________________________________________________________\n",
      "conv2d_3 (Conv2D)            (None, 13, 13, 384)       1327488   \n",
      "_________________________________________________________________\n",
      "batch_normalization_3 (Batch (None, 13, 13, 384)       1536      \n",
      "_________________________________________________________________\n",
      "conv2d_4 (Conv2D)            (None, 13, 13, 256)       884992    \n",
      "_________________________________________________________________\n",
      "batch_normalization_4 (Batch (None, 13, 13, 256)       1024      \n",
      "_________________________________________________________________\n",
      "max_pooling2d_2 (MaxPooling2 (None, 6, 6, 256)         0         \n",
      "_________________________________________________________________\n",
      "flatten (Flatten)            (None, 9216)              0         \n",
      "_________________________________________________________________\n",
      "dense (Dense)                (None, 4096)              37752832  \n",
      "_________________________________________________________________\n",
      "dropout (Dropout)            (None, 4096)              0         \n",
      "_________________________________________________________________\n",
      "dense_1 (Dense)              (None, 4096)              16781312  \n",
      "_________________________________________________________________\n",
      "dropout_1 (Dropout)          (None, 4096)              0         \n",
      "_________________________________________________________________\n",
      "dense_2 (Dense)              (None, 7)                 28679     \n",
      "=================================================================\n",
      "Total params: 58,315,527\n",
      "Trainable params: 58,312,775\n",
      "Non-trainable params: 2,752\n",
      "_________________________________________________________________\n"
     ]
    }
   ],
   "source": [
    "model = keras.models.Sequential([\n",
    "    keras.layers.Conv2D(filters=96, kernel_size=(11,11), strides=(4,4), activation='relu', input_shape=(227,227,3)),\n",
    "    keras.layers.BatchNormalization(),\n",
    "    keras.layers.MaxPool2D(pool_size=(3,3), strides=(2,2)),\n",
    "    keras.layers.Conv2D(filters=256, kernel_size=(5,5), strides=(1,1), activation='relu', padding=\"same\"),\n",
    "    keras.layers.BatchNormalization(),\n",
    "    keras.layers.MaxPool2D(pool_size=(3,3), strides=(2,2)),\n",
    "    keras.layers.Conv2D(filters=384, kernel_size=(3,3), strides=(1,1), activation='relu', padding=\"same\"),\n",
    "    keras.layers.BatchNormalization(),\n",
    "    keras.layers.Conv2D(filters=384, kernel_size=(3,3), strides=(1,1), activation='relu', padding=\"same\"),\n",
    "    keras.layers.BatchNormalization(),\n",
    "    keras.layers.Conv2D(filters=256, kernel_size=(3,3), strides=(1,1), activation='relu', padding=\"same\"),\n",
    "    keras.layers.BatchNormalization(),\n",
    "    keras.layers.MaxPool2D(pool_size=(3,3), strides=(2,2)),\n",
    "    keras.layers.Flatten(),\n",
    "    keras.layers.Dense(4096, activation='relu'),\n",
    "    keras.layers.Dropout(0.5),\n",
    "    keras.layers.Dense(4096, activation='relu'),\n",
    "    keras.layers.Dropout(0.5),\n",
    "#change the value in Dense according to number of class..\n",
    "    keras.layers.Dense(7, activation='softmax')\n",
    "])\n",
    "\n",
    "model.summary()"
   ]
  },
  {
   "cell_type": "code",
   "execution_count": 5,
   "id": "609909dc",
   "metadata": {
    "execution": {
     "iopub.execute_input": "2022-10-01T07:52:16.621631Z",
     "iopub.status.busy": "2022-10-01T07:52:16.620751Z",
     "iopub.status.idle": "2022-10-01T07:52:16.638724Z",
     "shell.execute_reply": "2022-10-01T07:52:16.637429Z"
    },
    "papermill": {
     "duration": 0.02779,
     "end_time": "2022-10-01T07:52:16.642146",
     "exception": false,
     "start_time": "2022-10-01T07:52:16.614356",
     "status": "completed"
    },
    "tags": []
   },
   "outputs": [],
   "source": [
    "model.compile(optimizer='Adam',\n",
    "              loss='categorical_crossentropy',\n",
    "              metrics=['accuracy'])"
   ]
  },
  {
   "cell_type": "code",
   "execution_count": 6,
   "id": "aa7eab8d",
   "metadata": {
    "execution": {
     "iopub.execute_input": "2022-10-01T07:52:16.653009Z",
     "iopub.status.busy": "2022-10-01T07:52:16.652277Z",
     "iopub.status.idle": "2022-10-01T08:28:40.845866Z",
     "shell.execute_reply": "2022-10-01T08:28:40.844724Z"
    },
    "papermill": {
     "duration": 2184.20329,
     "end_time": "2022-10-01T08:28:40.849884",
     "exception": false,
     "start_time": "2022-10-01T07:52:16.646594",
     "status": "completed"
    },
    "tags": []
   },
   "outputs": [
    {
     "name": "stdout",
     "output_type": "stream",
     "text": [
      "Epoch 1/5\n",
      "49/49 [==============================] - 88s 1s/step - loss: 17.5776 - accuracy: 0.2906 - val_loss: 19.2086 - val_accuracy: 0.1864\n",
      "Epoch 2/5\n",
      "49/49 [==============================] - 45s 910ms/step - loss: 3.3840 - accuracy: 0.3635 - val_loss: 2.9432 - val_accuracy: 0.1759\n",
      "Epoch 3/5\n",
      "49/49 [==============================] - 45s 910ms/step - loss: 2.3334 - accuracy: 0.4207 - val_loss: 2.4180 - val_accuracy: 0.1391\n",
      "Epoch 4/5\n",
      "49/49 [==============================] - 45s 909ms/step - loss: 1.9803 - accuracy: 0.4350 - val_loss: 1.8100 - val_accuracy: 0.2625\n",
      "Epoch 5/5\n",
      "49/49 [==============================] - 45s 910ms/step - loss: 1.8217 - accuracy: 0.4649 - val_loss: 1.8076 - val_accuracy: 0.2835\n"
     ]
    }
   ],
   "source": [
    "history = model.fit(train_data, epochs=5, batch_size=32, validation_data = val_data)"
   ]
  },
  {
   "cell_type": "code",
   "execution_count": 7,
   "id": "90c5d6d3",
   "metadata": {
    "execution": {
     "iopub.execute_input": "2022-10-01T08:28:43.070287Z",
     "iopub.status.busy": "2022-10-01T08:28:43.069836Z",
     "iopub.status.idle": "2022-10-01T08:29:03.830345Z",
     "shell.execute_reply": "2022-10-01T08:29:03.829236Z"
    },
    "papermill": {
     "duration": 21.830178,
     "end_time": "2022-10-01T08:29:03.833233",
     "exception": false,
     "start_time": "2022-10-01T08:28:42.003055",
     "status": "completed"
    },
    "tags": []
   },
   "outputs": [
    {
     "name": "stdout",
     "output_type": "stream",
     "text": [
      "4/4 [==============================] - 3s 731ms/step - loss: 1.9573 - accuracy: 0.2626\n"
     ]
    }
   ],
   "source": [
    "test_loss, test_acc = model.evaluate((test_data))"
   ]
  },
  {
   "cell_type": "code",
   "execution_count": 8,
   "id": "ff27a171",
   "metadata": {
    "papermill": {
     "duration": 1.137358,
     "end_time": "2022-10-01T08:29:06.124011",
     "exception": false,
     "start_time": "2022-10-01T08:29:04.986653",
     "status": "completed"
    },
    "tags": []
   },
   "outputs": [],
   "source": [
    "model.save('C:\\\\Users\\\\0MEN\\\\Desktop\\\\sub\\\\alexnet\\\\intel_alexnet_dec21.h5')"
   ]
  },
  {
   "cell_type": "code",
   "execution_count": null,
   "id": "e70751a8",
   "metadata": {},
   "outputs": [],
   "source": []
  }
 ],
 "metadata": {
  "kernelspec": {
   "display_name": "Python 3 (ipykernel)",
   "language": "python",
   "name": "python3"
  },
  "language_info": {
   "codemirror_mode": {
    "name": "ipython",
    "version": 3
   },
   "file_extension": ".py",
   "mimetype": "text/x-python",
   "name": "python",
   "nbconvert_exporter": "python",
   "pygments_lexer": "ipython3",
   "version": "3.9.15"
  },
  "papermill": {
   "default_parameters": {},
   "duration": 2253.616896,
   "end_time": "2022-10-01T08:29:10.832745",
   "environment_variables": {},
   "exception": null,
   "input_path": "__notebook__.ipynb",
   "output_path": "__notebook__.ipynb",
   "parameters": {},
   "start_time": "2022-10-01T07:51:37.215849",
   "version": "2.3.4"
  }
 },
 "nbformat": 4,
 "nbformat_minor": 5
}
