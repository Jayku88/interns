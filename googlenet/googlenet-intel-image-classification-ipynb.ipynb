{
 "cells": [
  {
   "cell_type": "code",
   "execution_count": 1,
   "id": "e36d47e3",
   "metadata": {},
   "outputs": [
    {
     "name": "stdout",
     "output_type": "stream",
     "text": [
      "Requirement already satisfied: scipy in c:\\users\\0men\\appdata\\local\\anaconda\\envs\\tf_gpu\\lib\\site-packages (1.9.3)\n",
      "Requirement already satisfied: numpy<1.26.0,>=1.18.5 in c:\\users\\0men\\appdata\\local\\anaconda\\envs\\tf_gpu\\lib\\site-packages (from scipy) (1.23.4)\n",
      "Note: you may need to restart the kernel to use updated packages.\n"
     ]
    }
   ],
   "source": [
    "pip install scipy"
   ]
  },
  {
   "cell_type": "code",
   "execution_count": 1,
   "id": "7f3d015a",
   "metadata": {
    "execution": {
     "iopub.execute_input": "2022-10-07T05:46:59.494885Z",
     "iopub.status.busy": "2022-10-07T05:46:59.493918Z",
     "iopub.status.idle": "2022-10-07T05:47:04.829705Z",
     "shell.execute_reply": "2022-10-07T05:47:04.828723Z"
    },
    "papermill": {
     "duration": 5.343457,
     "end_time": "2022-10-07T05:47:04.832382",
     "exception": false,
     "start_time": "2022-10-07T05:46:59.488925",
     "status": "completed"
    },
    "tags": []
   },
   "outputs": [],
   "source": [
    "import tensorflow as tf\n",
    "import numpy as np\n",
    "import os\n",
    "import keras\n",
    "from keras. preprocessing.image import ImageDataGenerator\n",
    "from keras.models import Model\n",
    "from keras.layers import Input, Conv2D, MaxPooling2D, AveragePooling2D, Flatten, GlobalAveragePooling2D, Dense, Dropout\n",
    "from tensorflow.keras.layers import concatenate\n",
    "import scipy"
   ]
  },
  {
   "cell_type": "markdown",
   "id": "118c2d7e",
   "metadata": {},
   "source": [
    "We have to set the directory based on the folder where you saved the  dataset"
   ]
  },
  {
   "cell_type": "code",
   "execution_count": 2,
   "id": "47ecb428",
   "metadata": {
    "execution": {
     "iopub.execute_input": "2022-10-07T05:47:04.840232Z",
     "iopub.status.busy": "2022-10-07T05:47:04.839621Z",
     "iopub.status.idle": "2022-10-07T05:47:12.703057Z",
     "shell.execute_reply": "2022-10-07T05:47:12.701576Z"
    },
    "papermill": {
     "duration": 7.869878,
     "end_time": "2022-10-07T05:47:12.705411",
     "exception": false,
     "start_time": "2022-10-07T05:47:04.835533",
     "status": "completed"
    },
    "tags": []
   },
   "outputs": [
    {
     "name": "stdout",
     "output_type": "stream",
     "text": [
      "C:\\Users\\0MEN\\Desktop\\sub\\resizedto224\\\n",
      "C:\\Users\\0MEN\\Desktop\\sub\\resizedto224\\pred\n",
      "C:\\Users\\0MEN\\Desktop\\sub\\resizedto224\\Test\n",
      "C:\\Users\\0MEN\\Desktop\\sub\\resizedto224\\Test\\actinic keratosis\n",
      "C:\\Users\\0MEN\\Desktop\\sub\\resizedto224\\Test\\basal cell carcinoma\n",
      "C:\\Users\\0MEN\\Desktop\\sub\\resizedto224\\Test\\dermatofibroma\n",
      "C:\\Users\\0MEN\\Desktop\\sub\\resizedto224\\Test\\melanoma\n",
      "C:\\Users\\0MEN\\Desktop\\sub\\resizedto224\\Test\\nevus\n",
      "C:\\Users\\0MEN\\Desktop\\sub\\resizedto224\\Test\\pigmented benign keratosis\n",
      "C:\\Users\\0MEN\\Desktop\\sub\\resizedto224\\Test\\seborrheic keratosis\n",
      "C:\\Users\\0MEN\\Desktop\\sub\\resizedto224\\Train\n",
      "C:\\Users\\0MEN\\Desktop\\sub\\resizedto224\\Train\\actinic keratosis\n",
      "C:\\Users\\0MEN\\Desktop\\sub\\resizedto224\\Train\\basal cell carcinoma\n",
      "C:\\Users\\0MEN\\Desktop\\sub\\resizedto224\\Train\\dermatofibroma\n",
      "C:\\Users\\0MEN\\Desktop\\sub\\resizedto224\\Train\\melanoma\n",
      "C:\\Users\\0MEN\\Desktop\\sub\\resizedto224\\Train\\nevus\n",
      "C:\\Users\\0MEN\\Desktop\\sub\\resizedto224\\Train\\pigmented benign keratosis\n",
      "C:\\Users\\0MEN\\Desktop\\sub\\resizedto224\\Train\\seborrheic keratosis\n"
     ]
    }
   ],
   "source": [
    "for dirname, _, filenames in os.walk('C:\\\\Users\\\\0MEN\\\\Desktop\\\\sub\\\\resizedto224\\\\'):\n",
    "    print (dirname)"
   ]
  },
  {
   "cell_type": "markdown",
   "id": "a2b9e683",
   "metadata": {},
   "source": [
    "We have to set the directory based on the folder where you saved dataset(Train and Test)"
   ]
  },
  {
   "cell_type": "code",
   "execution_count": 3,
   "id": "570c4bf9",
   "metadata": {
    "execution": {
     "iopub.execute_input": "2022-10-07T05:47:12.713026Z",
     "iopub.status.busy": "2022-10-07T05:47:12.712718Z",
     "iopub.status.idle": "2022-10-07T05:47:16.153101Z",
     "shell.execute_reply": "2022-10-07T05:47:16.151919Z"
    },
    "papermill": {
     "duration": 3.446863,
     "end_time": "2022-10-07T05:47:16.155436",
     "exception": false,
     "start_time": "2022-10-07T05:47:12.708573",
     "status": "completed"
    },
    "tags": []
   },
   "outputs": [
    {
     "name": "stdout",
     "output_type": "stream",
     "text": [
      "Found 1538 images belonging to 7 classes.\n",
      "Found 381 images belonging to 7 classes.\n",
      "Found 99 images belonging to 7 classes.\n",
      "[0 0 0 ... 6 6 6]\n",
      "[0 0 0 0 0 0 0 0 0 0 0 0 0 0 0 0 0 0 0 0 0 0 1 1 1 1 1 1 1 1 1 1 1 1 1 1 1\n",
      " 1 1 1 1 1 1 1 1 1 1 1 1 1 1 1 1 1 1 1 1 1 1 1 1 1 1 1 1 1 1 1 1 1 1 1 1 1\n",
      " 1 1 1 1 1 1 1 1 1 1 1 1 1 1 1 1 1 1 1 1 1 1 1 2 2 2 2 2 2 2 2 2 2 2 2 2 2\n",
      " 2 2 2 2 2 3 3 3 3 3 3 3 3 3 3 3 3 3 3 3 3 3 3 3 3 3 3 3 3 3 3 3 3 3 3 3 3\n",
      " 3 3 3 3 3 3 3 3 3 3 3 3 3 3 3 3 3 3 3 3 3 3 3 3 3 3 3 3 3 3 3 3 3 3 3 3 3\n",
      " 3 3 3 3 3 3 3 3 3 3 3 3 3 3 3 3 3 3 4 4 4 4 4 4 4 4 4 4 4 4 4 4 4 4 4 4 4\n",
      " 4 4 4 4 4 4 4 4 4 4 4 4 4 4 4 4 4 4 4 4 4 4 4 4 4 4 4 4 4 4 4 4 4 4 4 4 4\n",
      " 4 4 4 4 4 4 4 4 4 4 4 4 4 4 4 5 5 5 5 5 5 5 5 5 5 5 5 5 5 5 5 5 5 5 5 5 5\n",
      " 5 5 5 5 5 5 5 5 5 5 5 5 5 5 5 5 5 5 5 5 5 5 5 5 5 5 5 5 5 5 5 5 5 5 5 5 5\n",
      " 5 5 5 5 5 5 5 5 5 5 5 5 5 5 5 5 5 5 5 5 5 5 5 5 5 5 5 5 5 5 5 5 5 6 6 6 6\n",
      " 6 6 6 6 6 6 6 6 6 6 6]\n",
      "{'actinic keratosis': 0, 'basal cell carcinoma': 1, 'dermatofibroma': 2, 'melanoma': 3, 'nevus': 4, 'pigmented benign keratosis': 5, 'seborrheic keratosis': 6}\n",
      "[0 0 0 0 0 0 0 0 0 0 0 0 0 0 0 0 1 1 1 1 1 1 1 1 1 1 1 1 1 1 1 1 2 2 2 2 2\n",
      " 2 2 2 2 2 2 2 2 2 2 2 3 3 3 3 3 3 3 3 3 3 3 3 3 3 3 3 4 4 4 4 4 4 4 4 4 4\n",
      " 4 4 4 4 4 4 5 5 5 5 5 5 5 5 5 5 5 5 5 5 5 5 6 6 6]\n"
     ]
    }
   ],
   "source": [
    "# Importing the data and preprocessing \n",
    "from keras.preprocessing.image import ImageDataGenerator \n",
    "\n",
    "\n",
    "# set the directory based on the folder where you saved dataset\n",
    "train_data_dir = \"C:\\\\Users\\\\0MEN\\\\Desktop\\\\sub\\\\resizedto224\\\\Train\\\\\"\n",
    "test_data_dir = \"C:\\\\Users\\\\0MEN\\\\Desktop\\\\sub\\\\resizedto224\\\\Test\\\\\"\n",
    "image_generator = ImageDataGenerator(rescale=1/255, validation_split=0.2)    \n",
    "\n",
    "train_data = image_generator.flow_from_directory(batch_size=32,\n",
    "                                                 directory=train_data_dir,\n",
    "                                                 shuffle=True,\n",
    "                                                 target_size=(224,224), \n",
    "                                                 subset=\"training\",\n",
    "                                                 class_mode='categorical')\n",
    "\n",
    "val_data = image_generator.flow_from_directory(batch_size=32,\n",
    "                                                 directory=train_data_dir,\n",
    "                                                 shuffle=True,\n",
    "                                                 target_size=(224,224), \n",
    "                                                 subset=\"validation\",\n",
    "                                                 class_mode='categorical')\n",
    "test_gen = ImageDataGenerator(rescale=1./255)\n",
    "test_data = test_gen.flow_from_directory(test_data_dir,\n",
    "                                       target_size=(224,224), batch_size=32, shuffle=False)\n",
    "\n",
    "\n",
    "print(train_data.classes)\n",
    "print(val_data.classes)\n",
    "print(train_data.class_indices)\n",
    "print(test_data.classes)\n",
    "class_names = np.unique(train_data.classes)"
   ]
  },
  {
   "cell_type": "code",
   "execution_count": 4,
   "id": "ece57673",
   "metadata": {
    "execution": {
     "iopub.execute_input": "2022-10-07T05:47:16.164036Z",
     "iopub.status.busy": "2022-10-07T05:47:16.163392Z",
     "iopub.status.idle": "2022-10-07T05:47:16.172452Z",
     "shell.execute_reply": "2022-10-07T05:47:16.171515Z"
    },
    "papermill": {
     "duration": 0.015956,
     "end_time": "2022-10-07T05:47:16.174871",
     "exception": false,
     "start_time": "2022-10-07T05:47:16.158915",
     "status": "completed"
    },
    "tags": []
   },
   "outputs": [],
   "source": [
    "def Inception_block(input_layer, f1, f2_conv1, f2_conv3, f3_conv1, f3_conv5, f4): \n",
    "  # Input: \n",
    "  # - f1: number of filters of the 1x1 convolutional layer in the first path\n",
    "  # - f2_conv1, f2_conv3 are number of filters corresponding to the 1x1 and 3x3 convolutional layers in the second path\n",
    "  # - f3_conv1, f3_conv5 are the number of filters corresponding to the 1x1 and 5x5  convolutional layer in the third path\n",
    "  # - f4: number of filters of the 1x1 convolutional layer in the fourth path\n",
    "\n",
    "  # 1st path:\n",
    "  path1 = Conv2D(filters=f1, kernel_size = (1,1), padding = 'same', activation = 'relu')(input_layer)\n",
    "\n",
    "  # 2nd path\n",
    "  path2 = Conv2D(filters = f2_conv1, kernel_size = (1,1), padding = 'same', activation = 'relu')(input_layer)\n",
    "  path2 = Conv2D(filters = f2_conv3, kernel_size = (3,3), padding = 'same', activation = 'relu')(path2)\n",
    "\n",
    "  # 3rd path\n",
    "  path3 = Conv2D(filters = f3_conv1, kernel_size = (1,1), padding = 'same', activation = 'relu')(input_layer)\n",
    "  path3 = Conv2D(filters = f3_conv5, kernel_size = (5,5), padding = 'same', activation = 'relu')(path3)\n",
    "\n",
    "  # 4th path\n",
    "  path4 = MaxPooling2D((3,3), strides= (1,1), padding = 'same')(input_layer)\n",
    "  path4 = Conv2D(filters = f4, kernel_size = (1,1), padding = 'same', activation = 'relu')(path4)\n",
    "\n",
    "  output_layer = concatenate([path1, path2, path3, path4], axis = -1)\n",
    "\n",
    "  return output_layer"
   ]
  },
  {
   "cell_type": "markdown",
   "id": "22646bc8",
   "metadata": {},
   "source": [
    "We have to change the dense value according to number of classes..."
   ]
  },
  {
   "cell_type": "code",
   "execution_count": 5,
   "id": "3ab29cda",
   "metadata": {
    "execution": {
     "iopub.execute_input": "2022-10-07T05:47:16.183232Z",
     "iopub.status.busy": "2022-10-07T05:47:16.182909Z",
     "iopub.status.idle": "2022-10-07T05:47:16.200213Z",
     "shell.execute_reply": "2022-10-07T05:47:16.199217Z"
    },
    "papermill": {
     "duration": 0.024133,
     "end_time": "2022-10-07T05:47:16.202460",
     "exception": false,
     "start_time": "2022-10-07T05:47:16.178327",
     "status": "completed"
    },
    "tags": []
   },
   "outputs": [],
   "source": [
    "def GoogLeNet():\n",
    "  # input layer \n",
    "  input_layer = Input(shape = (224, 224, 3))\n",
    "\n",
    "  # convolutional layer: filters = 64, kernel_size = (7,7), strides = 2\n",
    "  X = Conv2D(filters = 64, kernel_size = (7,7), strides = 2, padding = 'valid', activation = 'relu')(input_layer)\n",
    "\n",
    "  # max-pooling layer: pool_size = (3,3), strides = 2\n",
    "  X = MaxPooling2D(pool_size = (3,3), strides = 2)(X)\n",
    "\n",
    "  # convolutional layer: filters = 64, strides = 1\n",
    "  X = Conv2D(filters = 64, kernel_size = (1,1), strides = 1, padding = 'same', activation = 'relu')(X)\n",
    "\n",
    "  # convolutional layer: filters = 192, kernel_size = (3,3)\n",
    "  X = Conv2D(filters = 192, kernel_size = (3,3), padding = 'same', activation = 'relu')(X)\n",
    "\n",
    "  # max-pooling layer: pool_size = (3,3), strides = 2\n",
    "  X = MaxPooling2D(pool_size= (3,3), strides = 2)(X)\n",
    "\n",
    "  # 1st Inception block\n",
    "  X = Inception_block(X, f1 = 64, f2_conv1 = 96, f2_conv3 = 128, f3_conv1 = 16, f3_conv5 = 32, f4 = 32)\n",
    "\n",
    "  # 2nd Inception block\n",
    "  X = Inception_block(X, f1 = 128, f2_conv1 = 128, f2_conv3 = 192, f3_conv1 = 32, f3_conv5 = 96, f4 = 64)\n",
    "\n",
    "  # max-pooling layer: pool_size = (3,3), strides = 2\n",
    "  X = MaxPooling2D(pool_size= (3,3), strides = 2)(X)\n",
    "\n",
    "  # 3rd Inception block\n",
    "  X = Inception_block(X, f1 = 192, f2_conv1 = 96, f2_conv3 = 208, f3_conv1 = 16, f3_conv5 = 48, f4 = 64)\n",
    "\n",
    "  # Extra network 1:\n",
    "  X1 = AveragePooling2D(pool_size = (5,5), strides = 3)(X)\n",
    "  X1 = Conv2D(filters = 128, kernel_size = (1,1), padding = 'same', activation = 'relu')(X1)\n",
    "  X1 = Flatten()(X1)\n",
    "  X1 = Dense(1024, activation = 'relu')(X1)\n",
    "  X1 = Dropout(0.7)(X1)\n",
    "#change the dense value according to number of classes...\n",
    "  X1 = Dense(7, activation = 'softmax')(X1)\n",
    "\n",
    "  \n",
    "  # 4th Inception block\n",
    "  X = Inception_block(X, f1 = 160, f2_conv1 = 112, f2_conv3 = 224, f3_conv1 = 24, f3_conv5 = 64, f4 = 64)\n",
    "\n",
    "  # 5th Inception block\n",
    "  X = Inception_block(X, f1 = 128, f2_conv1 = 128, f2_conv3 = 256, f3_conv1 = 24, f3_conv5 = 64, f4 = 64)\n",
    "\n",
    "  # 6th Inception block\n",
    "  X = Inception_block(X, f1 = 112, f2_conv1 = 144, f2_conv3 = 288, f3_conv1 = 32, f3_conv5 = 64, f4 = 64)\n",
    "\n",
    "  # Extra network 2:\n",
    "  X2 = AveragePooling2D(pool_size = (5,5), strides = 3)(X)\n",
    "  X2 = Conv2D(filters = 128, kernel_size = (1,1), padding = 'same', activation = 'relu')(X2)\n",
    "  X2 = Flatten()(X2)\n",
    "  X2 = Dense(1024, activation = 'relu')(X2)\n",
    "  X2 = Dropout(0.7)(X2)\n",
    "#change the dense value according to number of classes...\n",
    "  X2 = Dense(7, activation = 'softmax')(X2)\n",
    "  \n",
    "  \n",
    "  # 7th Inception block\n",
    "  X = Inception_block(X, f1 = 256, f2_conv1 = 160, f2_conv3 = 320, f3_conv1 = 32, \n",
    "                      f3_conv5 = 128, f4 = 128)\n",
    "\n",
    "  # max-pooling layer: pool_size = (3,3), strides = 2\n",
    "  X = MaxPooling2D(pool_size = (3,3), strides = 2)(X)\n",
    "\n",
    "  # 8th Inception block\n",
    "  X = Inception_block(X, f1 = 256, f2_conv1 = 160, f2_conv3 = 320, f3_conv1 = 32, f3_conv5 = 128, f4 = 128)\n",
    "\n",
    "  # 9th Inception block\n",
    "  X = Inception_block(X, f1 = 384, f2_conv1 = 192, f2_conv3 = 384, f3_conv1 = 48, f3_conv5 = 128, f4 = 128)\n",
    "\n",
    "  # Global Average pooling layer \n",
    "  X = GlobalAveragePooling2D(name = 'GAPL')(X)\n",
    "\n",
    "  # Dropoutlayer \n",
    "  X = Dropout(0.4)(X)\n",
    "\n",
    "  # output layer \n",
    "#change the dense value according to number of classes...\n",
    "  X = Dense(7, activation = 'softmax')(X)\n",
    "  \n",
    "  # model\n",
    "  model = Model(input_layer, [X, X1, X2], name = 'GoogLeNet')\n",
    "\n",
    "  return model"
   ]
  },
  {
   "cell_type": "code",
   "execution_count": 6,
   "id": "64392de4",
   "metadata": {
    "execution": {
     "iopub.execute_input": "2022-10-07T05:47:16.210286Z",
     "iopub.status.busy": "2022-10-07T05:47:16.209936Z",
     "iopub.status.idle": "2022-10-07T05:47:19.922797Z",
     "shell.execute_reply": "2022-10-07T05:47:19.917156Z"
    },
    "papermill": {
     "duration": 3.719054,
     "end_time": "2022-10-07T05:47:19.924916",
     "exception": false,
     "start_time": "2022-10-07T05:47:16.205862",
     "status": "completed"
    },
    "tags": []
   },
   "outputs": [
    {
     "name": "stdout",
     "output_type": "stream",
     "text": [
      "Model: \"GoogLeNet\"\n",
      "__________________________________________________________________________________________________\n",
      "Layer (type)                    Output Shape         Param #     Connected to                     \n",
      "==================================================================================================\n",
      "input_1 (InputLayer)            [(None, 224, 224, 3) 0                                            \n",
      "__________________________________________________________________________________________________\n",
      "conv2d (Conv2D)                 (None, 109, 109, 64) 9472        input_1[0][0]                    \n",
      "__________________________________________________________________________________________________\n",
      "max_pooling2d (MaxPooling2D)    (None, 54, 54, 64)   0           conv2d[0][0]                     \n",
      "__________________________________________________________________________________________________\n",
      "conv2d_1 (Conv2D)               (None, 54, 54, 64)   4160        max_pooling2d[0][0]              \n",
      "__________________________________________________________________________________________________\n",
      "conv2d_2 (Conv2D)               (None, 54, 54, 192)  110784      conv2d_1[0][0]                   \n",
      "__________________________________________________________________________________________________\n",
      "max_pooling2d_1 (MaxPooling2D)  (None, 26, 26, 192)  0           conv2d_2[0][0]                   \n",
      "__________________________________________________________________________________________________\n",
      "conv2d_4 (Conv2D)               (None, 26, 26, 96)   18528       max_pooling2d_1[0][0]            \n",
      "__________________________________________________________________________________________________\n",
      "conv2d_6 (Conv2D)               (None, 26, 26, 16)   3088        max_pooling2d_1[0][0]            \n",
      "__________________________________________________________________________________________________\n",
      "max_pooling2d_2 (MaxPooling2D)  (None, 26, 26, 192)  0           max_pooling2d_1[0][0]            \n",
      "__________________________________________________________________________________________________\n",
      "conv2d_3 (Conv2D)               (None, 26, 26, 64)   12352       max_pooling2d_1[0][0]            \n",
      "__________________________________________________________________________________________________\n",
      "conv2d_5 (Conv2D)               (None, 26, 26, 128)  110720      conv2d_4[0][0]                   \n",
      "__________________________________________________________________________________________________\n",
      "conv2d_7 (Conv2D)               (None, 26, 26, 32)   12832       conv2d_6[0][0]                   \n",
      "__________________________________________________________________________________________________\n",
      "conv2d_8 (Conv2D)               (None, 26, 26, 32)   6176        max_pooling2d_2[0][0]            \n",
      "__________________________________________________________________________________________________\n",
      "concatenate (Concatenate)       (None, 26, 26, 256)  0           conv2d_3[0][0]                   \n",
      "                                                                 conv2d_5[0][0]                   \n",
      "                                                                 conv2d_7[0][0]                   \n",
      "                                                                 conv2d_8[0][0]                   \n",
      "__________________________________________________________________________________________________\n",
      "conv2d_10 (Conv2D)              (None, 26, 26, 128)  32896       concatenate[0][0]                \n",
      "__________________________________________________________________________________________________\n",
      "conv2d_12 (Conv2D)              (None, 26, 26, 32)   8224        concatenate[0][0]                \n",
      "__________________________________________________________________________________________________\n",
      "max_pooling2d_3 (MaxPooling2D)  (None, 26, 26, 256)  0           concatenate[0][0]                \n",
      "__________________________________________________________________________________________________\n",
      "conv2d_9 (Conv2D)               (None, 26, 26, 128)  32896       concatenate[0][0]                \n",
      "__________________________________________________________________________________________________\n",
      "conv2d_11 (Conv2D)              (None, 26, 26, 192)  221376      conv2d_10[0][0]                  \n",
      "__________________________________________________________________________________________________\n",
      "conv2d_13 (Conv2D)              (None, 26, 26, 96)   76896       conv2d_12[0][0]                  \n",
      "__________________________________________________________________________________________________\n",
      "conv2d_14 (Conv2D)              (None, 26, 26, 64)   16448       max_pooling2d_3[0][0]            \n",
      "__________________________________________________________________________________________________\n",
      "concatenate_1 (Concatenate)     (None, 26, 26, 480)  0           conv2d_9[0][0]                   \n",
      "                                                                 conv2d_11[0][0]                  \n",
      "                                                                 conv2d_13[0][0]                  \n",
      "                                                                 conv2d_14[0][0]                  \n",
      "__________________________________________________________________________________________________\n",
      "max_pooling2d_4 (MaxPooling2D)  (None, 12, 12, 480)  0           concatenate_1[0][0]              \n",
      "__________________________________________________________________________________________________\n",
      "conv2d_16 (Conv2D)              (None, 12, 12, 96)   46176       max_pooling2d_4[0][0]            \n",
      "__________________________________________________________________________________________________\n",
      "conv2d_18 (Conv2D)              (None, 12, 12, 16)   7696        max_pooling2d_4[0][0]            \n",
      "__________________________________________________________________________________________________\n",
      "max_pooling2d_5 (MaxPooling2D)  (None, 12, 12, 480)  0           max_pooling2d_4[0][0]            \n",
      "__________________________________________________________________________________________________\n",
      "conv2d_15 (Conv2D)              (None, 12, 12, 192)  92352       max_pooling2d_4[0][0]            \n",
      "__________________________________________________________________________________________________\n",
      "conv2d_17 (Conv2D)              (None, 12, 12, 208)  179920      conv2d_16[0][0]                  \n",
      "__________________________________________________________________________________________________\n",
      "conv2d_19 (Conv2D)              (None, 12, 12, 48)   19248       conv2d_18[0][0]                  \n",
      "__________________________________________________________________________________________________\n",
      "conv2d_20 (Conv2D)              (None, 12, 12, 64)   30784       max_pooling2d_5[0][0]            \n",
      "__________________________________________________________________________________________________\n",
      "concatenate_2 (Concatenate)     (None, 12, 12, 512)  0           conv2d_15[0][0]                  \n",
      "                                                                 conv2d_17[0][0]                  \n",
      "                                                                 conv2d_19[0][0]                  \n",
      "                                                                 conv2d_20[0][0]                  \n",
      "__________________________________________________________________________________________________\n",
      "conv2d_23 (Conv2D)              (None, 12, 12, 112)  57456       concatenate_2[0][0]              \n",
      "__________________________________________________________________________________________________\n",
      "conv2d_25 (Conv2D)              (None, 12, 12, 24)   12312       concatenate_2[0][0]              \n",
      "__________________________________________________________________________________________________\n",
      "max_pooling2d_6 (MaxPooling2D)  (None, 12, 12, 512)  0           concatenate_2[0][0]              \n",
      "__________________________________________________________________________________________________\n",
      "conv2d_22 (Conv2D)              (None, 12, 12, 160)  82080       concatenate_2[0][0]              \n",
      "__________________________________________________________________________________________________\n",
      "conv2d_24 (Conv2D)              (None, 12, 12, 224)  226016      conv2d_23[0][0]                  \n",
      "__________________________________________________________________________________________________\n",
      "conv2d_26 (Conv2D)              (None, 12, 12, 64)   38464       conv2d_25[0][0]                  \n",
      "__________________________________________________________________________________________________\n",
      "conv2d_27 (Conv2D)              (None, 12, 12, 64)   32832       max_pooling2d_6[0][0]            \n",
      "__________________________________________________________________________________________________\n",
      "concatenate_3 (Concatenate)     (None, 12, 12, 512)  0           conv2d_22[0][0]                  \n",
      "                                                                 conv2d_24[0][0]                  \n",
      "                                                                 conv2d_26[0][0]                  \n",
      "                                                                 conv2d_27[0][0]                  \n",
      "__________________________________________________________________________________________________\n",
      "conv2d_29 (Conv2D)              (None, 12, 12, 128)  65664       concatenate_3[0][0]              \n",
      "__________________________________________________________________________________________________\n",
      "conv2d_31 (Conv2D)              (None, 12, 12, 24)   12312       concatenate_3[0][0]              \n",
      "__________________________________________________________________________________________________\n",
      "max_pooling2d_7 (MaxPooling2D)  (None, 12, 12, 512)  0           concatenate_3[0][0]              \n",
      "__________________________________________________________________________________________________\n",
      "conv2d_28 (Conv2D)              (None, 12, 12, 128)  65664       concatenate_3[0][0]              \n",
      "__________________________________________________________________________________________________\n",
      "conv2d_30 (Conv2D)              (None, 12, 12, 256)  295168      conv2d_29[0][0]                  \n",
      "__________________________________________________________________________________________________\n",
      "conv2d_32 (Conv2D)              (None, 12, 12, 64)   38464       conv2d_31[0][0]                  \n",
      "__________________________________________________________________________________________________\n",
      "conv2d_33 (Conv2D)              (None, 12, 12, 64)   32832       max_pooling2d_7[0][0]            \n",
      "__________________________________________________________________________________________________\n",
      "concatenate_4 (Concatenate)     (None, 12, 12, 512)  0           conv2d_28[0][0]                  \n",
      "                                                                 conv2d_30[0][0]                  \n",
      "                                                                 conv2d_32[0][0]                  \n",
      "                                                                 conv2d_33[0][0]                  \n",
      "__________________________________________________________________________________________________\n",
      "conv2d_35 (Conv2D)              (None, 12, 12, 144)  73872       concatenate_4[0][0]              \n",
      "__________________________________________________________________________________________________\n",
      "conv2d_37 (Conv2D)              (None, 12, 12, 32)   16416       concatenate_4[0][0]              \n",
      "__________________________________________________________________________________________________\n",
      "max_pooling2d_8 (MaxPooling2D)  (None, 12, 12, 512)  0           concatenate_4[0][0]              \n",
      "__________________________________________________________________________________________________\n",
      "conv2d_34 (Conv2D)              (None, 12, 12, 112)  57456       concatenate_4[0][0]              \n",
      "__________________________________________________________________________________________________\n",
      "conv2d_36 (Conv2D)              (None, 12, 12, 288)  373536      conv2d_35[0][0]                  \n",
      "__________________________________________________________________________________________________\n",
      "conv2d_38 (Conv2D)              (None, 12, 12, 64)   51264       conv2d_37[0][0]                  \n",
      "__________________________________________________________________________________________________\n",
      "conv2d_39 (Conv2D)              (None, 12, 12, 64)   32832       max_pooling2d_8[0][0]            \n",
      "__________________________________________________________________________________________________\n",
      "concatenate_5 (Concatenate)     (None, 12, 12, 528)  0           conv2d_34[0][0]                  \n",
      "                                                                 conv2d_36[0][0]                  \n",
      "                                                                 conv2d_38[0][0]                  \n",
      "                                                                 conv2d_39[0][0]                  \n",
      "__________________________________________________________________________________________________\n",
      "conv2d_42 (Conv2D)              (None, 12, 12, 160)  84640       concatenate_5[0][0]              \n",
      "__________________________________________________________________________________________________\n",
      "conv2d_44 (Conv2D)              (None, 12, 12, 32)   16928       concatenate_5[0][0]              \n",
      "__________________________________________________________________________________________________\n",
      "max_pooling2d_9 (MaxPooling2D)  (None, 12, 12, 528)  0           concatenate_5[0][0]              \n",
      "__________________________________________________________________________________________________\n",
      "conv2d_41 (Conv2D)              (None, 12, 12, 256)  135424      concatenate_5[0][0]              \n",
      "__________________________________________________________________________________________________\n",
      "conv2d_43 (Conv2D)              (None, 12, 12, 320)  461120      conv2d_42[0][0]                  \n",
      "__________________________________________________________________________________________________\n",
      "conv2d_45 (Conv2D)              (None, 12, 12, 128)  102528      conv2d_44[0][0]                  \n",
      "__________________________________________________________________________________________________\n",
      "conv2d_46 (Conv2D)              (None, 12, 12, 128)  67712       max_pooling2d_9[0][0]            \n",
      "__________________________________________________________________________________________________\n",
      "concatenate_6 (Concatenate)     (None, 12, 12, 832)  0           conv2d_41[0][0]                  \n",
      "                                                                 conv2d_43[0][0]                  \n",
      "                                                                 conv2d_45[0][0]                  \n",
      "                                                                 conv2d_46[0][0]                  \n",
      "__________________________________________________________________________________________________\n",
      "max_pooling2d_10 (MaxPooling2D) (None, 5, 5, 832)    0           concatenate_6[0][0]              \n",
      "__________________________________________________________________________________________________\n",
      "conv2d_48 (Conv2D)              (None, 5, 5, 160)    133280      max_pooling2d_10[0][0]           \n",
      "__________________________________________________________________________________________________\n",
      "conv2d_50 (Conv2D)              (None, 5, 5, 32)     26656       max_pooling2d_10[0][0]           \n",
      "__________________________________________________________________________________________________\n",
      "max_pooling2d_11 (MaxPooling2D) (None, 5, 5, 832)    0           max_pooling2d_10[0][0]           \n",
      "__________________________________________________________________________________________________\n",
      "conv2d_47 (Conv2D)              (None, 5, 5, 256)    213248      max_pooling2d_10[0][0]           \n",
      "__________________________________________________________________________________________________\n",
      "conv2d_49 (Conv2D)              (None, 5, 5, 320)    461120      conv2d_48[0][0]                  \n",
      "__________________________________________________________________________________________________\n",
      "conv2d_51 (Conv2D)              (None, 5, 5, 128)    102528      conv2d_50[0][0]                  \n",
      "__________________________________________________________________________________________________\n",
      "conv2d_52 (Conv2D)              (None, 5, 5, 128)    106624      max_pooling2d_11[0][0]           \n",
      "__________________________________________________________________________________________________\n",
      "concatenate_7 (Concatenate)     (None, 5, 5, 832)    0           conv2d_47[0][0]                  \n",
      "                                                                 conv2d_49[0][0]                  \n",
      "                                                                 conv2d_51[0][0]                  \n",
      "                                                                 conv2d_52[0][0]                  \n",
      "__________________________________________________________________________________________________\n",
      "conv2d_54 (Conv2D)              (None, 5, 5, 192)    159936      concatenate_7[0][0]              \n",
      "__________________________________________________________________________________________________\n",
      "conv2d_56 (Conv2D)              (None, 5, 5, 48)     39984       concatenate_7[0][0]              \n",
      "__________________________________________________________________________________________________\n",
      "max_pooling2d_12 (MaxPooling2D) (None, 5, 5, 832)    0           concatenate_7[0][0]              \n",
      "__________________________________________________________________________________________________\n",
      "average_pooling2d (AveragePooli (None, 3, 3, 512)    0           concatenate_2[0][0]              \n",
      "__________________________________________________________________________________________________\n",
      "average_pooling2d_1 (AveragePoo (None, 3, 3, 528)    0           concatenate_5[0][0]              \n",
      "__________________________________________________________________________________________________\n",
      "conv2d_53 (Conv2D)              (None, 5, 5, 384)    319872      concatenate_7[0][0]              \n",
      "__________________________________________________________________________________________________\n",
      "conv2d_55 (Conv2D)              (None, 5, 5, 384)    663936      conv2d_54[0][0]                  \n",
      "__________________________________________________________________________________________________\n",
      "conv2d_57 (Conv2D)              (None, 5, 5, 128)    153728      conv2d_56[0][0]                  \n",
      "__________________________________________________________________________________________________\n",
      "conv2d_58 (Conv2D)              (None, 5, 5, 128)    106624      max_pooling2d_12[0][0]           \n",
      "__________________________________________________________________________________________________\n",
      "conv2d_21 (Conv2D)              (None, 3, 3, 128)    65664       average_pooling2d[0][0]          \n",
      "__________________________________________________________________________________________________\n",
      "conv2d_40 (Conv2D)              (None, 3, 3, 128)    67712       average_pooling2d_1[0][0]        \n",
      "__________________________________________________________________________________________________\n",
      "concatenate_8 (Concatenate)     (None, 5, 5, 1024)   0           conv2d_53[0][0]                  \n",
      "                                                                 conv2d_55[0][0]                  \n",
      "                                                                 conv2d_57[0][0]                  \n",
      "                                                                 conv2d_58[0][0]                  \n",
      "__________________________________________________________________________________________________\n",
      "flatten (Flatten)               (None, 1152)         0           conv2d_21[0][0]                  \n",
      "__________________________________________________________________________________________________\n",
      "flatten_1 (Flatten)             (None, 1152)         0           conv2d_40[0][0]                  \n",
      "__________________________________________________________________________________________________\n",
      "GAPL (GlobalAveragePooling2D)   (None, 1024)         0           concatenate_8[0][0]              \n",
      "__________________________________________________________________________________________________\n",
      "dense (Dense)                   (None, 1024)         1180672     flatten[0][0]                    \n",
      "__________________________________________________________________________________________________\n",
      "dense_2 (Dense)                 (None, 1024)         1180672     flatten_1[0][0]                  \n",
      "__________________________________________________________________________________________________\n",
      "dropout_2 (Dropout)             (None, 1024)         0           GAPL[0][0]                       \n",
      "__________________________________________________________________________________________________\n",
      "dropout (Dropout)               (None, 1024)         0           dense[0][0]                      \n",
      "__________________________________________________________________________________________________\n",
      "dropout_1 (Dropout)             (None, 1024)         0           dense_2[0][0]                    \n",
      "__________________________________________________________________________________________________\n",
      "dense_4 (Dense)                 (None, 7)            7175        dropout_2[0][0]                  \n",
      "__________________________________________________________________________________________________\n",
      "dense_1 (Dense)                 (None, 7)            7175        dropout[0][0]                    \n",
      "__________________________________________________________________________________________________\n",
      "dense_3 (Dense)                 (None, 7)            7175        dropout_1[0][0]                  \n",
      "==================================================================================================\n",
      "Total params: 8,489,797\n",
      "Trainable params: 8,489,797\n",
      "Non-trainable params: 0\n",
      "__________________________________________________________________________________________________\n"
     ]
    }
   ],
   "source": [
    "model=GoogLeNet()\n",
    "\n",
    "model.summary()"
   ]
  },
  {
   "cell_type": "code",
   "execution_count": 7,
   "id": "156a2731",
   "metadata": {
    "execution": {
     "iopub.execute_input": "2022-10-07T05:47:19.934081Z",
     "iopub.status.busy": "2022-10-07T05:47:19.933747Z",
     "iopub.status.idle": "2022-10-07T05:47:19.948154Z",
     "shell.execute_reply": "2022-10-07T05:47:19.947278Z"
    },
    "papermill": {
     "duration": 0.021174,
     "end_time": "2022-10-07T05:47:19.950129",
     "exception": false,
     "start_time": "2022-10-07T05:47:19.928955",
     "status": "completed"
    },
    "tags": []
   },
   "outputs": [],
   "source": [
    "model.compile(optimizer='adam', \n",
    "              loss=keras.losses.categorical_crossentropy, \n",
    "              metrics=['accuracy'])"
   ]
  },
  {
   "cell_type": "code",
   "execution_count": 10,
   "id": "ad14434f",
   "metadata": {
    "execution": {
     "iopub.execute_input": "2022-10-07T05:47:19.958792Z",
     "iopub.status.busy": "2022-10-07T05:47:19.958486Z",
     "iopub.status.idle": "2022-10-07T06:20:59.471758Z",
     "shell.execute_reply": "2022-10-07T06:20:59.470667Z"
    },
    "papermill": {
     "duration": 2019.520031,
     "end_time": "2022-10-07T06:20:59.473982",
     "exception": false,
     "start_time": "2022-10-07T05:47:19.953951",
     "status": "completed"
    },
    "tags": []
   },
   "outputs": [
    {
     "name": "stdout",
     "output_type": "stream",
     "text": [
      "Epoch 1/25\n",
      "49/49 [==============================] - 10s 199ms/step - loss: 5.3053 - dense_4_loss: 1.7662 - dense_1_loss: 1.7697 - dense_3_loss: 1.7695 - dense_4_accuracy: 0.2321 - dense_1_accuracy: 0.2230 - dense_3_accuracy: 0.2204 - val_loss: 5.2577 - val_dense_4_loss: 1.7553 - val_dense_1_loss: 1.7480 - val_dense_3_loss: 1.7544 - val_dense_4_accuracy: 0.2283 - val_dense_1_accuracy: 0.2283 - val_dense_3_accuracy: 0.2283\n",
      "Epoch 2/25\n",
      "49/49 [==============================] - 10s 197ms/step - loss: 5.3064 - dense_4_loss: 1.7720 - dense_1_loss: 1.7663 - dense_3_loss: 1.7681 - dense_4_accuracy: 0.2263 - dense_1_accuracy: 0.2191 - dense_3_accuracy: 0.2464 - val_loss: 5.3214 - val_dense_4_loss: 1.7736 - val_dense_1_loss: 1.7694 - val_dense_3_loss: 1.7784 - val_dense_4_accuracy: 0.2415 - val_dense_1_accuracy: 0.2415 - val_dense_3_accuracy: 0.2415\n",
      "Epoch 3/25\n",
      "49/49 [==============================] - 10s 197ms/step - loss: 5.3220 - dense_4_loss: 1.7660 - dense_1_loss: 1.7815 - dense_3_loss: 1.7745 - dense_4_accuracy: 0.2315 - dense_1_accuracy: 0.2347 - dense_3_accuracy: 0.2295 - val_loss: 5.2918 - val_dense_4_loss: 1.7600 - val_dense_1_loss: 1.7713 - val_dense_3_loss: 1.7605 - val_dense_4_accuracy: 0.2415 - val_dense_1_accuracy: 0.2415 - val_dense_3_accuracy: 0.2415\n",
      "Epoch 4/25\n",
      "49/49 [==============================] - 10s 198ms/step - loss: 5.3174 - dense_4_loss: 1.7697 - dense_1_loss: 1.7787 - dense_3_loss: 1.7689 - dense_4_accuracy: 0.2263 - dense_1_accuracy: 0.2191 - dense_3_accuracy: 0.2217 - val_loss: 5.2800 - val_dense_4_loss: 1.7587 - val_dense_1_loss: 1.7641 - val_dense_3_loss: 1.7572 - val_dense_4_accuracy: 0.2415 - val_dense_1_accuracy: 0.2415 - val_dense_3_accuracy: 0.2415\n",
      "Epoch 5/25\n",
      "49/49 [==============================] - 10s 199ms/step - loss: 5.3156 - dense_4_loss: 1.7677 - dense_1_loss: 1.7741 - dense_3_loss: 1.7737 - dense_4_accuracy: 0.2341 - dense_1_accuracy: 0.2432 - dense_3_accuracy: 0.2406 - val_loss: 5.2690 - val_dense_4_loss: 1.7558 - val_dense_1_loss: 1.7580 - val_dense_3_loss: 1.7552 - val_dense_4_accuracy: 0.2415 - val_dense_1_accuracy: 0.2625 - val_dense_3_accuracy: 0.2415\n",
      "Epoch 6/25\n",
      "49/49 [==============================] - 10s 198ms/step - loss: 5.3084 - dense_4_loss: 1.7646 - dense_1_loss: 1.7716 - dense_3_loss: 1.7722 - dense_4_accuracy: 0.2464 - dense_1_accuracy: 0.2263 - dense_3_accuracy: 0.2282 - val_loss: 5.2717 - val_dense_4_loss: 1.7583 - val_dense_1_loss: 1.7563 - val_dense_3_loss: 1.7570 - val_dense_4_accuracy: 0.2415 - val_dense_1_accuracy: 0.2415 - val_dense_3_accuracy: 0.2415\n",
      "Epoch 7/25\n",
      "49/49 [==============================] - 10s 197ms/step - loss: 5.3054 - dense_4_loss: 1.7648 - dense_1_loss: 1.7714 - dense_3_loss: 1.7691 - dense_4_accuracy: 0.2360 - dense_1_accuracy: 0.2354 - dense_3_accuracy: 0.2334 - val_loss: 5.2669 - val_dense_4_loss: 1.7556 - val_dense_1_loss: 1.7553 - val_dense_3_loss: 1.7560 - val_dense_4_accuracy: 0.2415 - val_dense_1_accuracy: 0.2415 - val_dense_3_accuracy: 0.2415\n",
      "Epoch 8/25\n",
      "49/49 [==============================] - 10s 195ms/step - loss: 5.2964 - dense_4_loss: 1.7637 - dense_1_loss: 1.7656 - dense_3_loss: 1.7670 - dense_4_accuracy: 0.2419 - dense_1_accuracy: 0.2380 - dense_3_accuracy: 0.2419 - val_loss: 5.2707 - val_dense_4_loss: 1.7571 - val_dense_1_loss: 1.7568 - val_dense_3_loss: 1.7568 - val_dense_4_accuracy: 0.2415 - val_dense_1_accuracy: 0.2415 - val_dense_3_accuracy: 0.2415\n",
      "Epoch 9/25\n",
      "49/49 [==============================] - 10s 198ms/step - loss: 5.2948 - dense_4_loss: 1.7639 - dense_1_loss: 1.7654 - dense_3_loss: 1.7654 - dense_4_accuracy: 0.2458 - dense_1_accuracy: 0.2367 - dense_3_accuracy: 0.2321 - val_loss: 5.2955 - val_dense_4_loss: 1.7623 - val_dense_1_loss: 1.7670 - val_dense_3_loss: 1.7663 - val_dense_4_accuracy: 0.2415 - val_dense_1_accuracy: 0.2415 - val_dense_3_accuracy: 0.2415\n",
      "Epoch 10/25\n",
      "49/49 [==============================] - 10s 197ms/step - loss: 5.3091 - dense_4_loss: 1.7672 - dense_1_loss: 1.7705 - dense_3_loss: 1.7714 - dense_4_accuracy: 0.2256 - dense_1_accuracy: 0.2243 - dense_3_accuracy: 0.2217 - val_loss: 5.2700 - val_dense_4_loss: 1.7564 - val_dense_1_loss: 1.7566 - val_dense_3_loss: 1.7570 - val_dense_4_accuracy: 0.2415 - val_dense_1_accuracy: 0.2415 - val_dense_3_accuracy: 0.2415\n",
      "Epoch 11/25\n",
      "49/49 [==============================] - 10s 198ms/step - loss: 5.2947 - dense_4_loss: 1.7625 - dense_1_loss: 1.7686 - dense_3_loss: 1.7637 - dense_4_accuracy: 0.2269 - dense_1_accuracy: 0.2367 - dense_3_accuracy: 0.2438 - val_loss: 5.2662 - val_dense_4_loss: 1.7555 - val_dense_1_loss: 1.7554 - val_dense_3_loss: 1.7553 - val_dense_4_accuracy: 0.2415 - val_dense_1_accuracy: 0.2415 - val_dense_3_accuracy: 0.2415\n",
      "Epoch 12/25\n",
      "49/49 [==============================] - 10s 196ms/step - loss: 5.2977 - dense_4_loss: 1.7630 - dense_1_loss: 1.7659 - dense_3_loss: 1.7688 - dense_4_accuracy: 0.2295 - dense_1_accuracy: 0.2393 - dense_3_accuracy: 0.2308 - val_loss: 5.2696 - val_dense_4_loss: 1.7569 - val_dense_1_loss: 1.7561 - val_dense_3_loss: 1.7566 - val_dense_4_accuracy: 0.2283 - val_dense_1_accuracy: 0.2415 - val_dense_3_accuracy: 0.2415\n",
      "Epoch 13/25\n",
      "49/49 [==============================] - 10s 197ms/step - loss: 5.2930 - dense_4_loss: 1.7624 - dense_1_loss: 1.7659 - dense_3_loss: 1.7647 - dense_4_accuracy: 0.2152 - dense_1_accuracy: 0.2250 - dense_3_accuracy: 0.2308 - val_loss: 5.2683 - val_dense_4_loss: 1.7563 - val_dense_1_loss: 1.7566 - val_dense_3_loss: 1.7554 - val_dense_4_accuracy: 0.2415 - val_dense_1_accuracy: 0.2415 - val_dense_3_accuracy: 0.2415\n",
      "Epoch 14/25\n",
      "49/49 [==============================] - 10s 195ms/step - loss: 5.2958 - dense_4_loss: 1.7627 - dense_1_loss: 1.7692 - dense_3_loss: 1.7639 - dense_4_accuracy: 0.2347 - dense_1_accuracy: 0.2276 - dense_3_accuracy: 0.2471 - val_loss: 5.2897 - val_dense_4_loss: 1.7623 - val_dense_1_loss: 1.7656 - val_dense_3_loss: 1.7618 - val_dense_4_accuracy: 0.2415 - val_dense_1_accuracy: 0.2415 - val_dense_3_accuracy: 0.2415\n",
      "Epoch 15/25\n",
      "49/49 [==============================] - 10s 198ms/step - loss: 5.2941 - dense_4_loss: 1.7634 - dense_1_loss: 1.7697 - dense_3_loss: 1.7610 - dense_4_accuracy: 0.2438 - dense_1_accuracy: 0.2354 - dense_3_accuracy: 0.2341 - val_loss: 5.2699 - val_dense_4_loss: 1.7562 - val_dense_1_loss: 1.7569 - val_dense_3_loss: 1.7568 - val_dense_4_accuracy: 0.2415 - val_dense_1_accuracy: 0.2283 - val_dense_3_accuracy: 0.2283\n",
      "Epoch 16/25\n",
      "49/49 [==============================] - 10s 199ms/step - loss: 5.2953 - dense_4_loss: 1.7639 - dense_1_loss: 1.7622 - dense_3_loss: 1.7693 - dense_4_accuracy: 0.2438 - dense_1_accuracy: 0.2380 - dense_3_accuracy: 0.2289 - val_loss: 5.2684 - val_dense_4_loss: 1.7561 - val_dense_1_loss: 1.7563 - val_dense_3_loss: 1.7560 - val_dense_4_accuracy: 0.2415 - val_dense_1_accuracy: 0.2415 - val_dense_3_accuracy: 0.2415\n",
      "Epoch 17/25\n",
      "49/49 [==============================] - 10s 200ms/step - loss: 5.2908 - dense_4_loss: 1.7619 - dense_1_loss: 1.7635 - dense_3_loss: 1.7654 - dense_4_accuracy: 0.2243 - dense_1_accuracy: 0.2211 - dense_3_accuracy: 0.2321 - val_loss: 5.2668 - val_dense_4_loss: 1.7556 - val_dense_1_loss: 1.7554 - val_dense_3_loss: 1.7558 - val_dense_4_accuracy: 0.2415 - val_dense_1_accuracy: 0.2415 - val_dense_3_accuracy: 0.2415\n",
      "Epoch 18/25\n",
      "49/49 [==============================] - 10s 196ms/step - loss: 5.2952 - dense_4_loss: 1.7646 - dense_1_loss: 1.7676 - dense_3_loss: 1.7630 - dense_4_accuracy: 0.2289 - dense_1_accuracy: 0.2211 - dense_3_accuracy: 0.2289 - val_loss: 5.2810 - val_dense_4_loss: 1.7604 - val_dense_1_loss: 1.7584 - val_dense_3_loss: 1.7622 - val_dense_4_accuracy: 0.2283 - val_dense_1_accuracy: 0.2283 - val_dense_3_accuracy: 0.2283\n",
      "Epoch 19/25\n",
      "49/49 [==============================] - 10s 196ms/step - loss: 5.2955 - dense_4_loss: 1.7624 - dense_1_loss: 1.7656 - dense_3_loss: 1.7675 - dense_4_accuracy: 0.2360 - dense_1_accuracy: 0.2367 - dense_3_accuracy: 0.2217 - val_loss: 5.2666 - val_dense_4_loss: 1.7558 - val_dense_1_loss: 1.7555 - val_dense_3_loss: 1.7553 - val_dense_4_accuracy: 0.2415 - val_dense_1_accuracy: 0.2415 - val_dense_3_accuracy: 0.2415\n",
      "Epoch 20/25\n",
      "49/49 [==============================] - 10s 196ms/step - loss: 5.2969 - dense_4_loss: 1.7672 - dense_1_loss: 1.7614 - dense_3_loss: 1.7682 - dense_4_accuracy: 0.2068 - dense_1_accuracy: 0.2412 - dense_3_accuracy: 0.2367 - val_loss: 5.2660 - val_dense_4_loss: 1.7554 - val_dense_1_loss: 1.7552 - val_dense_3_loss: 1.7554 - val_dense_4_accuracy: 0.2415 - val_dense_1_accuracy: 0.2415 - val_dense_3_accuracy: 0.2415\n",
      "Epoch 21/25\n",
      "49/49 [==============================] - 10s 199ms/step - loss: 5.2848 - dense_4_loss: 1.7608 - dense_1_loss: 1.7651 - dense_3_loss: 1.7589 - dense_4_accuracy: 0.2295 - dense_1_accuracy: 0.2367 - dense_3_accuracy: 0.2477 - val_loss: 5.2672 - val_dense_4_loss: 1.7559 - val_dense_1_loss: 1.7558 - val_dense_3_loss: 1.7555 - val_dense_4_accuracy: 0.2415 - val_dense_1_accuracy: 0.2415 - val_dense_3_accuracy: 0.2415\n",
      "Epoch 22/25\n",
      "49/49 [==============================] - 10s 200ms/step - loss: 5.2923 - dense_4_loss: 1.7634 - dense_1_loss: 1.7659 - dense_3_loss: 1.7630 - dense_4_accuracy: 0.2230 - dense_1_accuracy: 0.2445 - dense_3_accuracy: 0.2360 - val_loss: 5.2691 - val_dense_4_loss: 1.7557 - val_dense_1_loss: 1.7565 - val_dense_3_loss: 1.7569 - val_dense_4_accuracy: 0.2415 - val_dense_1_accuracy: 0.2415 - val_dense_3_accuracy: 0.2415\n",
      "Epoch 23/25\n",
      "49/49 [==============================] - 10s 197ms/step - loss: 5.2962 - dense_4_loss: 1.7636 - dense_1_loss: 1.7652 - dense_3_loss: 1.7675 - dense_4_accuracy: 0.2367 - dense_1_accuracy: 0.2289 - dense_3_accuracy: 0.2302 - val_loss: 5.2690 - val_dense_4_loss: 1.7561 - val_dense_1_loss: 1.7563 - val_dense_3_loss: 1.7566 - val_dense_4_accuracy: 0.2415 - val_dense_1_accuracy: 0.2415 - val_dense_3_accuracy: 0.2415\n",
      "Epoch 24/25\n",
      "49/49 [==============================] - 10s 195ms/step - loss: 5.2989 - dense_4_loss: 1.7634 - dense_1_loss: 1.7647 - dense_3_loss: 1.7708 - dense_4_accuracy: 0.2380 - dense_1_accuracy: 0.2516 - dense_3_accuracy: 0.2276 - val_loss: 5.2822 - val_dense_4_loss: 1.7596 - val_dense_1_loss: 1.7594 - val_dense_3_loss: 1.7632 - val_dense_4_accuracy: 0.2415 - val_dense_1_accuracy: 0.2415 - val_dense_3_accuracy: 0.2415\n",
      "Epoch 25/25\n",
      "49/49 [==============================] - 10s 197ms/step - loss: 5.2998 - dense_4_loss: 1.7642 - dense_1_loss: 1.7675 - dense_3_loss: 1.7681 - dense_4_accuracy: 0.2321 - dense_1_accuracy: 0.2302 - dense_3_accuracy: 0.2289 - val_loss: 5.2709 - val_dense_4_loss: 1.7568 - val_dense_1_loss: 1.7568 - val_dense_3_loss: 1.7573 - val_dense_4_accuracy: 0.2415 - val_dense_1_accuracy: 0.2415 - val_dense_3_accuracy: 0.2415\n"
     ]
    }
   ],
   "source": [
    "hist = model.fit(train_data,\n",
    "                           validation_data= val_data,\n",
    "                           epochs=25,verbose=1)"
   ]
  },
  {
   "cell_type": "code",
   "execution_count": 11,
   "id": "2b8cbf80",
   "metadata": {
    "execution": {
     "iopub.execute_input": "2022-10-07T06:21:01.510792Z",
     "iopub.status.busy": "2022-10-07T06:21:01.510295Z",
     "iopub.status.idle": "2022-10-07T06:21:16.335981Z",
     "shell.execute_reply": "2022-10-07T06:21:16.335031Z"
    },
    "papermill": {
     "duration": 15.825605,
     "end_time": "2022-10-07T06:21:16.338455",
     "exception": false,
     "start_time": "2022-10-07T06:21:00.512850",
     "status": "completed"
    },
    "tags": []
   },
   "outputs": [
    {
     "name": "stdout",
     "output_type": "stream",
     "text": [
      "4/4 [==============================] - 0s 80ms/step - loss: 6.0886 - dense_4_loss: 2.0350 - dense_1_loss: 2.0289 - dense_3_loss: 2.0248 - dense_4_accuracy: 0.1616 - dense_1_accuracy: 0.1616 - dense_3_accuracy: 0.1616      \n"
     ]
    },
    {
     "data": {
      "text/plain": [
       "[6.088648319244385,\n",
       " 2.034975528717041,\n",
       " 2.028892993927002,\n",
       " 2.0247802734375,\n",
       " 0.16161616146564484,\n",
       " 0.16161616146564484,\n",
       " 0.16161616146564484]"
      ]
     },
     "execution_count": 11,
     "metadata": {},
     "output_type": "execute_result"
    }
   ],
   "source": [
    "model.evaluate(test_data)"
   ]
  },
  {
   "cell_type": "code",
   "execution_count": null,
   "id": "7ddc80d8",
   "metadata": {},
   "outputs": [],
   "source": []
  },
  {
   "cell_type": "code",
   "execution_count": null,
   "id": "d2d92806",
   "metadata": {},
   "outputs": [],
   "source": []
  },
  {
   "cell_type": "code",
   "execution_count": 20,
   "id": "b516da19",
   "metadata": {},
   "outputs": [],
   "source": [
    "model.save('C:\\\\Users\\\\0MEN\\\\Desktop\\\\sub\\\\googlenet\\\\intel_googlenet_dec14.h5')"
   ]
  },
  {
   "cell_type": "code",
   "execution_count": null,
   "id": "93124af7",
   "metadata": {},
   "outputs": [],
   "source": []
  }
 ],
 "metadata": {
  "kernelspec": {
   "display_name": "Python 3 (ipykernel)",
   "language": "python",
   "name": "python3"
  },
  "language_info": {
   "codemirror_mode": {
    "name": "ipython",
    "version": 3
   },
   "file_extension": ".py",
   "mimetype": "text/x-python",
   "name": "python",
   "nbconvert_exporter": "python",
   "pygments_lexer": "ipython3",
   "version": "3.9.15"
  },
  "papermill": {
   "default_parameters": {},
   "duration": 2069.124567,
   "end_time": "2022-10-07T06:21:20.502703",
   "environment_variables": {},
   "exception": null,
   "input_path": "__notebook__.ipynb",
   "output_path": "__notebook__.ipynb",
   "parameters": {},
   "start_time": "2022-10-07T05:46:51.378136",
   "version": "2.3.4"
  }
 },
 "nbformat": 4,
 "nbformat_minor": 5
}
